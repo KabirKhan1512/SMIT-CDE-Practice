{
 "cells": [
  {
   "cell_type": "code",
   "execution_count": 2,
   "id": "b9b9c763",
   "metadata": {},
   "outputs": [],
   "source": [
    "import pandas as pd\n",
    "import numpy as np"
   ]
  },
  {
   "cell_type": "code",
   "execution_count": 3,
   "id": "aa2a03e2",
   "metadata": {},
   "outputs": [],
   "source": [
    "price = pd.read_csv(\"airbnb_price.csv\")\n",
    "room = pd.read_excel(\"airbnb_room_type.xlsx\")\n",
    "review = pd.read_csv(\"airbnb_last_review.tsv\", delimiter='\\t')"
   ]
  },
  {
   "cell_type": "code",
   "execution_count": 4,
   "id": "83c30bfa",
   "metadata": {},
   "outputs": [],
   "source": [
    "no_pvt_rooms = len(room[room[\"room_type\"].str.upper() == 'PRIVATE ROOM'])"
   ]
  },
  {
   "cell_type": "code",
   "execution_count": 5,
   "id": "d2e26e1d",
   "metadata": {},
   "outputs": [],
   "source": [
    "price[\"price\"] = price[\"price\"].str.replace(\" dollars\",\".0\")"
   ]
  },
  {
   "cell_type": "code",
   "execution_count": 6,
   "id": "4f92504e",
   "metadata": {},
   "outputs": [],
   "source": [
    "price[\"price\"] = price[\"price\"].astype(float)"
   ]
  },
  {
   "cell_type": "code",
   "execution_count": 7,
   "id": "ba111935",
   "metadata": {},
   "outputs": [],
   "source": [
    "avg_price = price[\"price\"].mean().round(2)"
   ]
  },
  {
   "cell_type": "code",
   "execution_count": 8,
   "id": "c367d6e8",
   "metadata": {},
   "outputs": [],
   "source": [
    "review[\"last_review\"] = pd.to_datetime(review[\"last_review\"])"
   ]
  },
  {
   "cell_type": "code",
   "execution_count": 9,
   "id": "91e297cb",
   "metadata": {},
   "outputs": [],
   "source": [
    "last_review = review[\"last_review\"].max()"
   ]
  },
  {
   "cell_type": "code",
   "execution_count": 10,
   "id": "46357866",
   "metadata": {},
   "outputs": [],
   "source": [
    "first_review = review[\"last_review\"].min()"
   ]
  },
  {
   "cell_type": "code",
   "execution_count": 18,
   "id": "45555562",
   "metadata": {},
   "outputs": [],
   "source": [
    "arrays = np.array([[first_review, last_review, no_pvt_rooms, avg_price]])"
   ]
  },
  {
   "cell_type": "code",
   "execution_count": 24,
   "id": "722d69e4",
   "metadata": {},
   "outputs": [],
   "source": [
    "df = pd.DataFrame(arrays, columns = ['first_review', 'last_review', 'no_pvt_rooms', 'avg_price'])"
   ]
  },
  {
   "cell_type": "code",
   "execution_count": 26,
   "id": "9a360494",
   "metadata": {},
   "outputs": [],
   "source": [
    "df.to_csv(\"review_dates.csv\", index=False)"
   ]
  },
  {
   "cell_type": "code",
   "execution_count": null,
   "id": "93e2df98",
   "metadata": {},
   "outputs": [],
   "source": []
  }
 ],
 "metadata": {
  "kernelspec": {
   "display_name": "Python 3 (ipykernel)",
   "language": "python",
   "name": "python3"
  },
  "language_info": {
   "codemirror_mode": {
    "name": "ipython",
    "version": 3
   },
   "file_extension": ".py",
   "mimetype": "text/x-python",
   "name": "python",
   "nbconvert_exporter": "python",
   "pygments_lexer": "ipython3",
   "version": "3.12.4"
  }
 },
 "nbformat": 4,
 "nbformat_minor": 5
}
