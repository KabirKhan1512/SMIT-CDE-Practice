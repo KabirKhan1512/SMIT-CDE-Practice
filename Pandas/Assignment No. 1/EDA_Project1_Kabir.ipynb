{
 "cells": [
  {
   "cell_type": "code",
   "execution_count": 1,
   "id": "b9b9c763",
   "metadata": {},
   "outputs": [],
   "source": [
    "import pandas as pd\n",
    "import numpy as np"
   ]
  },
  {
   "cell_type": "code",
   "execution_count": 3,
   "id": "aa2a03e2",
   "metadata": {},
   "outputs": [],
   "source": [
    "price = pd.read_csv(\"airbnb_price.csv\")\n",
    "room = pd.read_excel(\"airbnb_room_type.xlsx\")\n",
    "review = pd.read_csv(\"airbnb_last_review.tsv\", delimiter='\\t')"
   ]
  },
  {
   "cell_type": "markdown",
   "id": "372dcd2c",
   "metadata": {},
   "source": [
    "## Basic Analysis"
   ]
  },
  {
   "cell_type": "code",
   "execution_count": 4,
   "id": "83c30bfa",
   "metadata": {},
   "outputs": [],
   "source": [
    "no_pvt_rooms = len(room[room[\"room_type\"].str.upper() == 'PRIVATE ROOM'])"
   ]
  },
  {
   "cell_type": "code",
   "execution_count": 5,
   "id": "d2e26e1d",
   "metadata": {},
   "outputs": [],
   "source": [
    "price[\"price\"] = price[\"price\"].str.replace(\" dollars\",\".0\")"
   ]
  },
  {
   "cell_type": "code",
   "execution_count": 6,
   "id": "4f92504e",
   "metadata": {},
   "outputs": [],
   "source": [
    "price[\"price\"] = price[\"price\"].astype(float)"
   ]
  },
  {
   "cell_type": "code",
   "execution_count": 7,
   "id": "ba111935",
   "metadata": {},
   "outputs": [],
   "source": [
    "avg_price = price[\"price\"].mean().round(2)"
   ]
  },
  {
   "cell_type": "code",
   "execution_count": 8,
   "id": "c367d6e8",
   "metadata": {},
   "outputs": [],
   "source": [
    "review[\"last_review\"] = pd.to_datetime(review[\"last_review\"])"
   ]
  },
  {
   "cell_type": "code",
   "execution_count": 9,
   "id": "91e297cb",
   "metadata": {},
   "outputs": [],
   "source": [
    "last_review = review[\"last_review\"].max()"
   ]
  },
  {
   "cell_type": "code",
   "execution_count": 10,
   "id": "46357866",
   "metadata": {},
   "outputs": [],
   "source": [
    "first_review = review[\"last_review\"].min()"
   ]
  },
  {
   "cell_type": "code",
   "execution_count": 11,
   "id": "45555562",
   "metadata": {},
   "outputs": [],
   "source": [
    "arrays = np.array([[first_review, last_review, no_pvt_rooms, avg_price]])"
   ]
  },
  {
   "cell_type": "code",
   "execution_count": 12,
   "id": "722d69e4",
   "metadata": {},
   "outputs": [],
   "source": [
    "df = pd.DataFrame(arrays, columns = ['first_review', 'last_review', 'no_pvt_rooms', 'avg_price'])"
   ]
  },
  {
   "cell_type": "code",
   "execution_count": 13,
   "id": "9a360494",
   "metadata": {},
   "outputs": [],
   "source": [
    "df.to_csv(\"review_dates.csv\", index=False)"
   ]
  },
  {
   "cell_type": "markdown",
   "id": "d93f10cc",
   "metadata": {},
   "source": [
    "## Intermediate Analysis"
   ]
  },
  {
   "cell_type": "code",
   "execution_count": 14,
   "id": "500ba110",
   "metadata": {},
   "outputs": [],
   "source": [
    "top = price.groupby([\"nbhood_full\"])[\"price\"].mean().sort_values(ascending=False).head()"
   ]
  },
  {
   "cell_type": "code",
   "execution_count": 15,
   "id": "81fe6fcb",
   "metadata": {},
   "outputs": [],
   "source": [
    "top =top.reset_index()"
   ]
  },
  {
   "cell_type": "code",
   "execution_count": 16,
   "id": "b3a371ad",
   "metadata": {
    "scrolled": true
   },
   "outputs": [
    {
     "data": {
      "text/plain": [
       "nbhood_full\n",
       "Brooklyn, Bedford-Stuyvesant                 2209\n",
       "Brooklyn, Williamsburg                       1853\n",
       "Manhattan, Harlem                            1435\n",
       "Brooklyn, Bushwick                           1202\n",
       "Manhattan, Hell's Kitchen                    1119\n",
       "                                             ... \n",
       "Bronx, Co-op City                               1\n",
       "Staten Island, Lighthouse Hill                  1\n",
       "Staten Island, Howland Hook                     1\n",
       "Staten Island, Bay Terrace, Staten Island       1\n",
       "Staten Island, Willowbrook                      1\n",
       "Name: price, Length: 217, dtype: int64"
      ]
     },
     "execution_count": 16,
     "metadata": {},
     "output_type": "execute_result"
    }
   ],
   "source": [
    "price.groupby([\"nbhood_full\"])[\"price\"].count().sort_values(ascending=False)"
   ]
  },
  {
   "cell_type": "code",
   "execution_count": 17,
   "id": "ee9fa04f",
   "metadata": {},
   "outputs": [
    {
     "data": {
      "text/plain": [
       "listing_id     41\n",
       "price          41\n",
       "nbhood_full    41\n",
       "dtype: int64"
      ]
     },
     "execution_count": 17,
     "metadata": {},
     "output_type": "execute_result"
    }
   ],
   "source": [
    "price[price[\"nbhood_full\"] == \"Manhattan, NoHo\"].count()"
   ]
  },
  {
   "cell_type": "code",
   "execution_count": 18,
   "id": "856d0813",
   "metadata": {},
   "outputs": [],
   "source": [
    "listings = []\n",
    "for i in top[\"nbhood_full\"].unique():\n",
    "    info = price[price[\"nbhood_full\"] == f\"{i}\"].count()\n",
    "    listings.append(info.price)"
   ]
  },
  {
   "cell_type": "code",
   "execution_count": 19,
   "id": "e05493ca",
   "metadata": {},
   "outputs": [
    {
     "data": {
      "text/plain": [
       "[2, 61, 36, 41, 191]"
      ]
     },
     "execution_count": 19,
     "metadata": {},
     "output_type": "execute_result"
    }
   ],
   "source": [
    "listings"
   ]
  },
  {
   "cell_type": "code",
   "execution_count": 20,
   "id": "000b2dd7",
   "metadata": {},
   "outputs": [],
   "source": [
    "top[\"listings\"] = listings"
   ]
  },
  {
   "cell_type": "code",
   "execution_count": 21,
   "id": "a0aaece8",
   "metadata": {},
   "outputs": [
    {
     "data": {
      "text/html": [
       "<div>\n",
       "<style scoped>\n",
       "    .dataframe tbody tr th:only-of-type {\n",
       "        vertical-align: middle;\n",
       "    }\n",
       "\n",
       "    .dataframe tbody tr th {\n",
       "        vertical-align: top;\n",
       "    }\n",
       "\n",
       "    .dataframe thead th {\n",
       "        text-align: right;\n",
       "    }\n",
       "</style>\n",
       "<table border=\"1\" class=\"dataframe\">\n",
       "  <thead>\n",
       "    <tr style=\"text-align: right;\">\n",
       "      <th></th>\n",
       "      <th>nbhood_full</th>\n",
       "      <th>price</th>\n",
       "      <th>listings</th>\n",
       "    </tr>\n",
       "  </thead>\n",
       "  <tbody>\n",
       "    <tr>\n",
       "      <th>0</th>\n",
       "      <td>Brooklyn, Sea Gate</td>\n",
       "      <td>805.000000</td>\n",
       "      <td>2</td>\n",
       "    </tr>\n",
       "    <tr>\n",
       "      <th>1</th>\n",
       "      <td>Manhattan, Tribeca</td>\n",
       "      <td>396.704918</td>\n",
       "      <td>61</td>\n",
       "    </tr>\n",
       "    <tr>\n",
       "      <th>2</th>\n",
       "      <td>Manhattan, Flatiron District</td>\n",
       "      <td>342.055556</td>\n",
       "      <td>36</td>\n",
       "    </tr>\n",
       "    <tr>\n",
       "      <th>3</th>\n",
       "      <td>Manhattan, NoHo</td>\n",
       "      <td>335.024390</td>\n",
       "      <td>41</td>\n",
       "    </tr>\n",
       "    <tr>\n",
       "      <th>4</th>\n",
       "      <td>Manhattan, SoHo</td>\n",
       "      <td>299.162304</td>\n",
       "      <td>191</td>\n",
       "    </tr>\n",
       "  </tbody>\n",
       "</table>\n",
       "</div>"
      ],
      "text/plain": [
       "                    nbhood_full       price  listings\n",
       "0            Brooklyn, Sea Gate  805.000000         2\n",
       "1            Manhattan, Tribeca  396.704918        61\n",
       "2  Manhattan, Flatiron District  342.055556        36\n",
       "3               Manhattan, NoHo  335.024390        41\n",
       "4               Manhattan, SoHo  299.162304       191"
      ]
     },
     "execution_count": 21,
     "metadata": {},
     "output_type": "execute_result"
    }
   ],
   "source": [
    "top"
   ]
  },
  {
   "cell_type": "code",
   "execution_count": 22,
   "id": "c0e7f80f",
   "metadata": {},
   "outputs": [],
   "source": [
    "top.rename(columns={\n",
    "    'nbhood_full': 'neighborhood',\n",
    "    'price': 'average_price',\n",
    "    'listings': 'number_of_listings'\n",
    "}, inplace=True)"
   ]
  },
  {
   "cell_type": "code",
   "execution_count": 23,
   "id": "6917bb85",
   "metadata": {},
   "outputs": [
    {
     "data": {
      "text/html": [
       "<div>\n",
       "<style scoped>\n",
       "    .dataframe tbody tr th:only-of-type {\n",
       "        vertical-align: middle;\n",
       "    }\n",
       "\n",
       "    .dataframe tbody tr th {\n",
       "        vertical-align: top;\n",
       "    }\n",
       "\n",
       "    .dataframe thead th {\n",
       "        text-align: right;\n",
       "    }\n",
       "</style>\n",
       "<table border=\"1\" class=\"dataframe\">\n",
       "  <thead>\n",
       "    <tr style=\"text-align: right;\">\n",
       "      <th></th>\n",
       "      <th>neighborhood</th>\n",
       "      <th>average_price</th>\n",
       "      <th>number_of_listings</th>\n",
       "    </tr>\n",
       "  </thead>\n",
       "  <tbody>\n",
       "    <tr>\n",
       "      <th>0</th>\n",
       "      <td>Brooklyn, Sea Gate</td>\n",
       "      <td>805.000000</td>\n",
       "      <td>2</td>\n",
       "    </tr>\n",
       "    <tr>\n",
       "      <th>1</th>\n",
       "      <td>Manhattan, Tribeca</td>\n",
       "      <td>396.704918</td>\n",
       "      <td>61</td>\n",
       "    </tr>\n",
       "    <tr>\n",
       "      <th>2</th>\n",
       "      <td>Manhattan, Flatiron District</td>\n",
       "      <td>342.055556</td>\n",
       "      <td>36</td>\n",
       "    </tr>\n",
       "    <tr>\n",
       "      <th>3</th>\n",
       "      <td>Manhattan, NoHo</td>\n",
       "      <td>335.024390</td>\n",
       "      <td>41</td>\n",
       "    </tr>\n",
       "    <tr>\n",
       "      <th>4</th>\n",
       "      <td>Manhattan, SoHo</td>\n",
       "      <td>299.162304</td>\n",
       "      <td>191</td>\n",
       "    </tr>\n",
       "  </tbody>\n",
       "</table>\n",
       "</div>"
      ],
      "text/plain": [
       "                   neighborhood  average_price  number_of_listings\n",
       "0            Brooklyn, Sea Gate     805.000000                   2\n",
       "1            Manhattan, Tribeca     396.704918                  61\n",
       "2  Manhattan, Flatiron District     342.055556                  36\n",
       "3               Manhattan, NoHo     335.024390                  41\n",
       "4               Manhattan, SoHo     299.162304                 191"
      ]
     },
     "execution_count": 23,
     "metadata": {},
     "output_type": "execute_result"
    }
   ],
   "source": [
    "top"
   ]
  },
  {
   "cell_type": "markdown",
   "id": "4c71abe2",
   "metadata": {},
   "source": [
    "## Word Analysis"
   ]
  },
  {
   "cell_type": "code",
   "execution_count": null,
   "id": "296a435d",
   "metadata": {},
   "outputs": [],
   "source": []
  },
  {
   "cell_type": "markdown",
   "id": "ce3d84af",
   "metadata": {},
   "source": [
    "## Advanced Analysis"
   ]
  },
  {
   "cell_type": "code",
   "execution_count": 25,
   "id": "7668969d",
   "metadata": {},
   "outputs": [],
   "source": [
    "price_room = pd.merge(room,price,how=\"left\")"
   ]
  },
  {
   "cell_type": "code",
   "execution_count": 26,
   "id": "fb7a9b38",
   "metadata": {},
   "outputs": [
    {
     "data": {
      "text/plain": [
       "81.63816484677703"
      ]
     },
     "execution_count": 26,
     "metadata": {},
     "output_type": "execute_result"
    }
   ],
   "source": [
    "private_room_avg = price_room[price_room[\"room_type\"].str.lower() == 'private room'][\"price\"].mean()\n",
    "private_room_avg"
   ]
  },
  {
   "cell_type": "code",
   "execution_count": 27,
   "id": "4e2326cd",
   "metadata": {},
   "outputs": [
    {
     "data": {
      "text/plain": [
       "53.465076660988075"
      ]
     },
     "execution_count": 27,
     "metadata": {},
     "output_type": "execute_result"
    }
   ],
   "source": [
    "shared_room_avg = price_room[price_room[\"room_type\"].str.lower() == 'shared room'][\"price\"].mean()\n",
    "shared_room_avg"
   ]
  },
  {
   "cell_type": "code",
   "execution_count": 28,
   "id": "a0d338c3",
   "metadata": {},
   "outputs": [
    {
     "data": {
      "text/plain": [
       "197.16666666666666"
      ]
     },
     "execution_count": 28,
     "metadata": {},
     "output_type": "execute_result"
    }
   ],
   "source": [
    "apt_avg = price_room[price_room[\"room_type\"].str.lower() == 'entire home/apt'][\"price\"].mean()\n",
    "apt_avg"
   ]
  },
  {
   "cell_type": "markdown",
   "id": "58527f21",
   "metadata": {},
   "source": [
    "## Bar Chart of Averages"
   ]
  },
  {
   "cell_type": "code",
   "execution_count": 29,
   "id": "d746c858",
   "metadata": {},
   "outputs": [],
   "source": [
    "import matplotlib.pyplot as plt"
   ]
  },
  {
   "cell_type": "code",
   "execution_count": 30,
   "id": "8fe9863a",
   "metadata": {},
   "outputs": [],
   "source": [
    "averages = [private_room_avg,shared_room_avg,apt_avg]\n",
    "names = ['private_room_avg','shared_room_avg','apt_avg']"
   ]
  },
  {
   "cell_type": "code",
   "execution_count": 47,
   "id": "92a0224b",
   "metadata": {},
   "outputs": [
    {
     "data": {
      "text/plain": [
       "Text(0.5, 0, 'Names')"
      ]
     },
     "execution_count": 47,
     "metadata": {},
     "output_type": "execute_result"
    },
    {
     "data": {
      "image/png": "[encoded data removed]",
      "text/plain": [
       "<Figure size 1500x700 with 1 Axes>"
      ]
     },
     "metadata": {},
     "output_type": "display_data"
    }
   ],
   "source": [
    "fig, ax = plt.subplots(figsize=(15,7))\n",
    "ax.bar(names,averages)\n",
    "ax.set_title(\"Averages of Various Types of Rooms\")\n",
    "ax.set_ylabel('Frequency')\n",
    "ax.set_xlabel('Names')\n"
   ]
  },
  {
   "cell_type": "markdown",
   "id": "da098227",
   "metadata": {},
   "source": [
    "## Trends Over Time"
   ]
  },
  {
   "cell_type": "code",
   "execution_count": 70,
   "id": "eaa47f26",
   "metadata": {},
   "outputs": [],
   "source": [
    "review[\"last_review\"] = pd.to_datetime(review[\"last_review\"])"
   ]
  },
  {
   "cell_type": "code",
   "execution_count": 71,
   "id": "f8c7f233",
   "metadata": {},
   "outputs": [],
   "source": [
    "review_trend = review.groupby([\"last_review\"])[\"listing_id\"].count()"
   ]
  },
  {
   "cell_type": "markdown",
   "id": "3811ea24",
   "metadata": {},
   "source": [
    "## Line Graph to show Trend"
   ]
  },
  {
   "cell_type": "code",
   "execution_count": 72,
   "id": "cfee6234",
   "metadata": {},
   "outputs": [],
   "source": [
    "review_trend = review_trend.reset_index()"
   ]
  },
  {
   "cell_type": "code",
   "execution_count": 73,
   "id": "2c9bf69a",
   "metadata": {},
   "outputs": [],
   "source": [
    "review_trend = review_trend.rename(columns={\n",
    "    \"last_review\": \"date\",\n",
    "    \"listing_id\": \"no_of_reviews\"\n",
    "})"
   ]
  },
  {
   "cell_type": "code",
   "execution_count": 76,
   "id": "c74c9c17",
   "metadata": {},
   "outputs": [
    {
     "data": {
      "text/plain": [
       "[<matplotlib.lines.Line2D at 0x1d0058876b0>]"
      ]
     },
     "execution_count": 76,
     "metadata": {},
     "output_type": "execute_result"
    },
    {
     "data": {
      "image/png": "[encoded data removed]",
      "text/plain": [
       "<Figure size 640x480 with 1 Axes>"
      ]
     },
     "metadata": {},
     "output_type": "display_data"
    }
   ],
   "source": [
    "plt.xlabel(\"Dates of Reviews\")\n",
    "plt.ylabel(\"No. of Reviews\")\n",
    "plt.title(\"Line Graph to Show Reviews Over Time\")\n",
    "plt.plot(review_trend[\"date\"], review_trend[\"no_of_reviews\"])"
   ]
  },
  {
   "cell_type": "markdown",
   "id": "901953c4",
   "metadata": {},
   "source": [
    "## Scatter Plot by Matplotlib\n",
    "o\tCreate a scatter plot with a regression line showing the relationship between price and the length of the description.\n",
    "\n",
    "\tUse matplotlib.axes.Axes.annotate to highlight outliers in the graph. (Note: Students should explore this function independently.)\n"
   ]
  },
  {
   "cell_type": "code",
   "execution_count": 81,
   "id": "3f91de84",
   "metadata": {},
   "outputs": [
    {
     "data": {
      "text/plain": [
       "0        225.0\n",
       "1         89.0\n",
       "2        200.0\n",
       "3         79.0\n",
       "4        150.0\n",
       "         ...  \n",
       "25204    129.0\n",
       "25205     45.0\n",
       "25206    235.0\n",
       "25207    100.0\n",
       "25208     30.0\n",
       "Name: price, Length: 25209, dtype: float64"
      ]
     },
     "execution_count": 81,
     "metadata": {},
     "output_type": "execute_result"
    }
   ],
   "source": [
    "prices = price_room[\"price\"]"
   ]
  },
  {
   "cell_type": "code",
   "execution_count": 89,
   "id": "74a6127d",
   "metadata": {},
   "outputs": [],
   "source": [
    "word_length = price_room[\"description\"].str.len()\n"
   ]
  },
  {
   "cell_type": "code",
   "execution_count": 148,
   "id": "dbf1f9f9",
   "metadata": {},
   "outputs": [
    {
     "data": {
      "text/plain": [
       "Text(3000, 80, 'Outliers')"
      ]
     },
     "execution_count": 148,
     "metadata": {},
     "output_type": "execute_result"
    },
    {
     "data": {
      "image/png": "[encoded data removed]",
      "text/plain": [
       "<Figure size 640x480 with 1 Axes>"
      ]
     },
     "metadata": {},
     "output_type": "display_data"
    }
   ],
   "source": [
    "plt.scatter(prices,word_length)\n",
    "plt.annotate('Outliers', xy=(7500, 20), xytext=(3000, 80),arrowprops=dict(facecolor='black', shrink=(1)))\n",
    "plt.annotate('Outliers', xy=(150, 156), xytext=(3000, 80),arrowprops=dict(facecolor='black', shrink=(1)))"
   ]
  },
  {
   "cell_type": "markdown",
   "id": "37dcba45",
   "metadata": {},
   "source": [
    "## Strip Plot"
   ]
  },
  {
   "cell_type": "code",
   "execution_count": null,
   "id": "59d78f85",
   "metadata": {},
   "outputs": [],
   "source": []
  },
  {
   "cell_type": "markdown",
   "id": "efd2a27f",
   "metadata": {},
   "source": [
    "## Bar Chart Showing listings of Each Room Type"
   ]
  },
  {
   "cell_type": "code",
   "execution_count": null,
   "id": "d0ede885",
   "metadata": {},
   "outputs": [],
   "source": []
  },
  {
   "cell_type": "markdown",
   "id": "ba7fd953",
   "metadata": {},
   "source": [
    "## Heatmap"
   ]
  },
  {
   "cell_type": "code",
   "execution_count": null,
   "id": "1f9a254b",
   "metadata": {},
   "outputs": [],
   "source": []
  },
  {
   "cell_type": "markdown",
   "id": "a03df9e5",
   "metadata": {},
   "source": [
    "## Pie Chart"
   ]
  },
  {
   "cell_type": "code",
   "execution_count": null,
   "id": "04ed5604",
   "metadata": {},
   "outputs": [],
   "source": []
  },
  {
   "cell_type": "markdown",
   "id": "d1b8f93d",
   "metadata": {},
   "source": [
    "## Histogram"
   ]
  },
  {
   "cell_type": "code",
   "execution_count": null,
   "id": "ac3ff7d1",
   "metadata": {},
   "outputs": [],
   "source": []
  },
  {
   "cell_type": "markdown",
   "id": "ce461425",
   "metadata": {},
   "source": [
    "## Violin Plot"
   ]
  },
  {
   "cell_type": "code",
   "execution_count": null,
   "id": "846bb2d9",
   "metadata": {},
   "outputs": [],
   "source": []
  },
  {
   "cell_type": "code",
   "execution_count": null,
   "id": "0f23cde9",
   "metadata": {},
   "outputs": [],
   "source": []
  },
  {
   "cell_type": "code",
   "execution_count": null,
   "id": "8c2853c9",
   "metadata": {},
   "outputs": [],
   "source": []
  },
  {
   "cell_type": "code",
   "execution_count": null,
   "id": "f3501a6b",
   "metadata": {},
   "outputs": [],
   "source": []
  }
 ],
 "metadata": {
  "kernelspec": {
   "display_name": "Python 3 (ipykernel)",
   "language": "python",
   "name": "python3"
  },
  "language_info": {
   "codemirror_mode": {
    "name": "ipython",
    "version": 3
   },
   "file_extension": ".py",
   "mimetype": "text/x-python",
   "name": "python",
   "nbconvert_exporter": "python",
   "pygments_lexer": "ipython3",
   "version": "3.12.4"
  }
 },
 "nbformat": 4,
 "nbformat_minor": 5
}
