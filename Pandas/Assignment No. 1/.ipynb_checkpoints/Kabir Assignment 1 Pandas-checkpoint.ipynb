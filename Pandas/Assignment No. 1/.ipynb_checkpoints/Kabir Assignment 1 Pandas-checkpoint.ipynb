{
 "cells": [
  {
   "cell_type": "code",
   "execution_count": 2,
   "id": "b9b9c763",
   "metadata": {},
   "outputs": [],
   "source": [
    "import pandas as pd\n",
    "import numpy as np"
   ]
  },
  {
   "cell_type": "code",
   "execution_count": 3,
   "id": "aa2a03e2",
   "metadata": {},
   "outputs": [],
   "source": [
    "price = pd.read_csv(\"airbnb_price.csv\")\n",
    "room = pd.read_excel(\"airbnb_room_type.xlsx\")\n",
    "review = pd.read_csv(\"airbnb_last_review.tsv\", delimiter='\\t')"
   ]
  },
  {
   "cell_type": "markdown",
   "id": "372dcd2c",
   "metadata": {},
   "source": [
    "## Basic Analysis"
   ]
  },
  {
   "cell_type": "code",
   "execution_count": 4,
   "id": "83c30bfa",
   "metadata": {},
   "outputs": [],
   "source": [
    "no_pvt_rooms = len(room[room[\"room_type\"].str.upper() == 'PRIVATE ROOM'])"
   ]
  },
  {
   "cell_type": "code",
   "execution_count": 5,
   "id": "d2e26e1d",
   "metadata": {},
   "outputs": [],
   "source": [
    "price[\"price\"] = price[\"price\"].str.replace(\" dollars\",\".0\")"
   ]
  },
  {
   "cell_type": "code",
   "execution_count": 6,
   "id": "4f92504e",
   "metadata": {},
   "outputs": [],
   "source": [
    "price[\"price\"] = price[\"price\"].astype(float)"
   ]
  },
  {
   "cell_type": "code",
   "execution_count": 7,
   "id": "ba111935",
   "metadata": {},
   "outputs": [],
   "source": [
    "avg_price = price[\"price\"].mean().round(2)"
   ]
  },
  {
   "cell_type": "code",
   "execution_count": 8,
   "id": "c367d6e8",
   "metadata": {},
   "outputs": [],
   "source": [
    "review[\"last_review\"] = pd.to_datetime(review[\"last_review\"])"
   ]
  },
  {
   "cell_type": "code",
   "execution_count": 9,
   "id": "91e297cb",
   "metadata": {},
   "outputs": [],
   "source": [
    "last_review = review[\"last_review\"].max()"
   ]
  },
  {
   "cell_type": "code",
   "execution_count": 10,
   "id": "46357866",
   "metadata": {},
   "outputs": [],
   "source": [
    "first_review = review[\"last_review\"].min()"
   ]
  },
  {
   "cell_type": "code",
   "execution_count": 11,
   "id": "45555562",
   "metadata": {},
   "outputs": [],
   "source": [
    "arrays = np.array([[first_review, last_review, no_pvt_rooms, avg_price]])"
   ]
  },
  {
   "cell_type": "code",
   "execution_count": 12,
   "id": "722d69e4",
   "metadata": {},
   "outputs": [],
   "source": [
    "df = pd.DataFrame(arrays, columns = ['first_review', 'last_review', 'no_pvt_rooms', 'avg_price'])"
   ]
  },
  {
   "cell_type": "code",
   "execution_count": 13,
   "id": "9a360494",
   "metadata": {},
   "outputs": [],
   "source": [
    "df.to_csv(\"review_dates.csv\", index=False)"
   ]
  },
  {
   "cell_type": "markdown",
   "id": "d93f10cc",
   "metadata": {},
   "source": [
    "## Intermediate Analysis"
   ]
  },
  {
   "cell_type": "code",
   "execution_count": 40,
   "id": "4b22d834",
   "metadata": {},
   "outputs": [
    {
     "name": "stdout",
     "output_type": "stream",
     "text": [
      "avg of Manhattan, Midtown: 272.2138157894737\n",
      "avg of Brooklyn, Clinton Hill: 164.45390070921985\n",
      "avg of Manhattan, Murray Hill: 240.36702127659575\n",
      "avg of Manhattan, Hell's Kitchen: 190.73100983020555\n",
      "avg of Manhattan, Chinatown: 162.79207920792078\n",
      "avg of Manhattan, Upper West Side: 181.13935483870966\n",
      "avg of Brooklyn, South Slope: 143.1744966442953\n",
      "avg of Brooklyn, Williamsburg: 148.7825148407987\n",
      "avg of Brooklyn, Fort Greene: 158.25\n",
      "avg of Manhattan, Chelsea: 222.03529411764706\n",
      "avg of Brooklyn, Crown Heights: 123.59308510638297\n",
      "avg of Brooklyn, Park Slope: 178.36244541484717\n",
      "avg of Brooklyn, Bedford-Stuyvesant: 104.63241285649615\n",
      "avg of Brooklyn, Windsor Terrace: 119.26388888888889\n",
      "avg of Manhattan, Inwood: 85.94017094017094\n",
      "avg of Manhattan, East Village: 184.28175519630486\n",
      "avg of Manhattan, Harlem: 121.75331010452962\n",
      "avg of Brooklyn, Greenpoint: 138.71816283924844\n",
      "avg of Brooklyn, Bushwick: 91.11314475873544\n",
      "avg of Manhattan, Lower East Side: 177.51626898047724\n",
      "avg of Brooklyn, Prospect-Lefferts Gardens: 107.81506849315069\n",
      "avg of Queens, Long Island City: 118.59929078014184\n",
      "avg of Manhattan, Kips Bay: 197.0934065934066\n",
      "avg of Manhattan, SoHo: 299.16230366492147\n",
      "avg of Manhattan, Upper East Side: 173.3206197854589\n",
      "avg of Brooklyn, Prospect Heights: 153.04142011834318\n",
      "avg of Manhattan, East Harlem: 127.17113095238095\n",
      "avg of Manhattan, Washington Heights: 90.75743707093821\n",
      "avg of Queens, Woodside: 87.59055118110236\n",
      "avg of Brooklyn, Flatbush: 96.13559322033899\n",
      "avg of Brooklyn, Carroll Gardens: 171.36206896551724\n",
      "avg of Manhattan, West Village: 258.7625698324022\n",
      "avg of Brooklyn, Flatlands: 97.40816326530613\n",
      "avg of Queens, Sunnyside: 83.21890547263682\n",
      "avg of Brooklyn, Gowanus: 163.36496350364965\n",
      "avg of Staten Island, St. George: 100.0625\n",
      "avg of Bronx, Highbridge: 75.45\n",
      "avg of Manhattan, Financial District: 238.78877005347593\n",
      "avg of Queens, Ridgewood: 86.0\n",
      "avg of Manhattan, Morningside Heights: 116.47747747747748\n",
      "avg of Queens, Jamaica: 82.8695652173913\n",
      "avg of Queens, Middle Village: 106.5909090909091\n",
      "avg of Queens, Ditmars Steinway: 90.94797687861272\n",
      "avg of Brooklyn, Cobble Hill: 194.0\n",
      "avg of Manhattan, Flatiron District: 342.05555555555554\n",
      "avg of Manhattan, Roosevelt Island: 112.15151515151516\n",
      "avg of Manhattan, Greenwich Village: 239.23030303030302\n",
      "avg of Brooklyn, East Flatbush: 112.54798761609906\n",
      "avg of Staten Island, Tompkinsville: 78.84848484848484\n",
      "avg of Queens, Astoria: 100.54910714285714\n",
      "avg of Brooklyn, Kensington: 76.425\n",
      "avg of Bronx, Eastchester: 131.88888888888889\n",
      "avg of Manhattan, Little Italy: 168.52238805970148\n",
      "avg of Bronx, Kingsbridge: 80.48780487804878\n",
      "avg of Brooklyn, Brooklyn Heights: 213.31428571428572\n",
      "avg of Manhattan, Two Bridges: 126.5\n",
      "avg of Queens, Queens Village: 77.75\n",
      "avg of Queens, Forest Hills: 104.61111111111111\n",
      "avg of Brooklyn, Boerum Hill: 166.4875\n",
      "avg of Manhattan, Nolita: 230.4322033898305\n",
      "avg of Bronx, Woodlawn: 56.875\n",
      "avg of Bronx, University Heights: 60.083333333333336\n",
      "avg of Manhattan, Gramercy: 214.78846153846155\n",
      "avg of Bronx, Allerton: 98.93333333333334\n",
      "avg of Brooklyn, East New York: 87.683908045977\n",
      "avg of Manhattan, Theater District: 234.2314814814815\n",
      "avg of Bronx, Concourse Village: 68.44444444444444\n",
      "avg of Brooklyn, Bensonhurst: 76.30952380952381\n",
      "avg of Manhattan, Tribeca: 396.7049180327869\n",
      "avg of Staten Island, Shore Acres: 105.0\n",
      "avg of Bronx, Concourse: 77.93333333333334\n",
      "avg of Brooklyn, DUMBO: 189.4\n",
      "avg of Queens, Elmhurst: 80.97419354838709\n",
      "avg of Queens, Jackson Heights: 79.81538461538462\n",
      "avg of Staten Island, Arrochar: 91.57894736842105\n",
      "avg of Queens, Rego Park: 81.58333333333333\n",
      "avg of Bronx, Wakefield: 77.72222222222223\n",
      "avg of Staten Island, Clifton: 80.4\n",
      "avg of Brooklyn, Bay Ridge: 115.19277108433735\n",
      "avg of Staten Island, Graniteville: 68.66666666666667\n",
      "avg of Bronx, Spuyten Duyvil: 180.0\n",
      "avg of Staten Island, Stapleton: 86.4\n",
      "avg of Brooklyn, Columbia St: 132.7826086956522\n",
      "avg of Brooklyn, Canarsie: 93.4090909090909\n",
      "avg of Brooklyn, Sunset Park: 100.51162790697674\n",
      "avg of Manhattan, Civic Center: 204.71428571428572\n",
      "avg of Queens, East Elmhurst: 77.42038216560509\n",
      "avg of Brooklyn, Brighton Beach: 87.70212765957447\n",
      "avg of Bronx, Morris Heights: 58.4\n",
      "avg of Queens, Flushing: 81.94043887147335\n",
      "avg of Brooklyn, Gravesend: 76.22222222222223\n",
      "avg of Brooklyn, Cypress Hills: 89.23853211009174\n",
      "avg of Staten Island, Tottenville: 160.8\n",
      "avg of Manhattan, NoHo: 335.0243902439024\n",
      "avg of Staten Island, Mariners Harbor: 86.16666666666667\n",
      "avg of Staten Island, Concord: 53.3\n",
      "avg of Brooklyn, Borough Park: 64.94736842105263\n",
      "avg of Queens, Bayside: 185.96428571428572\n",
      "avg of Brooklyn, Downtown Brooklyn: 173.13513513513513\n",
      "avg of Bronx, Fieldston: 76.33333333333333\n",
      "avg of Queens, Kew Gardens: 69.16666666666667\n",
      "avg of Queens, College Point: 98.16666666666667\n",
      "avg of Bronx, Mount Eden: 42.5\n",
      "avg of Queens, Briarwood: 72.06060606060606\n",
      "avg of Brooklyn, Vinegar Hill: 150.28571428571428\n",
      "avg of Queens, Glendale: 91.94871794871794\n",
      "avg of Brooklyn, Red Hook: 144.6\n",
      "avg of Bronx, Port Morris: 64.75\n",
      "avg of Queens, Arverne: 165.16666666666666\n",
      "avg of Bronx, Mott Haven: 84.15217391304348\n",
      "avg of Queens, St. Albans: 102.01724137931035\n",
      "avg of Brooklyn, Midwood: 79.82352941176471\n",
      "avg of Brooklyn, Sheepshead Bay: 82.15789473684211\n",
      "avg of Queens, Maspeth: 93.94117647058823\n",
      "avg of Bronx, Williamsbridge: 100.61538461538461\n",
      "avg of Queens, Woodhaven: 61.58064516129032\n",
      "avg of Manhattan, Battery Park City: 163.8\n",
      "avg of Bronx, Co-op City: 75.0\n",
      "avg of Bronx, North Riverdale: 55.6\n",
      "avg of Brooklyn, Dyker Heights: 95.0909090909091\n",
      "avg of Bronx, Longwood: 73.05882352941177\n",
      "avg of Queens, Richmond Hill: 87.234375\n",
      "avg of Brooklyn, Sea Gate: 805.0\n",
      "avg of Bronx, Riverdale: 147.8\n",
      "avg of Queens, Kew Gardens Hills: 94.33333333333333\n",
      "avg of Queens, Ozone Park: 89.92307692307692\n",
      "avg of Bronx, Soundview: 54.7\n",
      "avg of Queens, Bay Terrace: 123.75\n",
      "avg of Bronx, Norwood: 72.33333333333333\n",
      "avg of Bronx, Claremont Village: 63.0\n",
      "avg of Brooklyn, Brownsville: 79.93478260869566\n",
      "avg of Staten Island, Eltingville: 63.0\n",
      "avg of Queens, Rockaway Beach: 135.7560975609756\n",
      "avg of Brooklyn, Navy Yard: 180.83333333333334\n",
      "avg of Bronx, Mount Hope: 91.3076923076923\n",
      "avg of Bronx, Clason Point: 72.93333333333334\n",
      "avg of Queens, Springfield Gardens: 90.01369863013699\n",
      "avg of Queens, Belle Harbor: 166.4\n",
      "avg of Queens, Jamaica Estates: 134.0\n",
      "avg of Bronx, Van Nest: 58.55555555555556\n",
      "avg of Queens, Bellerose: 80.5\n",
      "avg of Queens, Fresh Meadows: 90.96\n",
      "avg of Staten Island, West Brighton: 67.14285714285714\n",
      "avg of Queens, Corona: 55.67307692307692\n",
      "avg of Queens, Bayswater: 93.33333333333333\n",
      "avg of Staten Island, Great Kills: 93.71428571428571\n",
      "avg of Brooklyn, Manhattan Beach: 99.83333333333333\n",
      "avg of Staten Island, Dongan Hills: 79.42857142857143\n",
      "avg of Brooklyn, Fort Hamilton: 92.56666666666666\n",
      "avg of Manhattan, Stuyvesant Town: 139.3846153846154\n",
      "avg of Bronx, East Morrisania: 85.0\n",
      "avg of Bronx, Hunts Point: 42.75\n",
      "avg of Queens, Neponsit: 274.6666666666667\n",
      "avg of Bronx, Pelham Bay: 114.4\n",
      "avg of Staten Island, Randall Manor: 82.0\n",
      "avg of Bronx, City Island: 95.41666666666667\n",
      "avg of Bronx, Throgs Neck: 94.52380952380952\n",
      "avg of Staten Island, Silver Lake: 70.0\n",
      "avg of Queens, Laurelton: 108.23076923076923\n",
      "avg of Queens, Holliswood: 159.0\n",
      "avg of Bronx, Pelham Gardens: 89.04\n",
      "avg of Bronx, Parkchester: 55.82608695652174\n",
      "avg of Queens, Rosedale: 70.46341463414635\n",
      "avg of Staten Island, Castleton Corners: 182.0\n",
      "avg of Queens, Far Rockaway: 86.2\n",
      "avg of Queens, Edgemere: 102.42857142857143\n",
      "avg of Staten Island, New Brighton: 101.8\n",
      "avg of Bronx, Baychester: 78.6\n",
      "avg of Bronx, Bronxdale: 53.6\n",
      "avg of Manhattan, Marble Hill: 87.5\n",
      "avg of Bronx, Melrose: 89.5\n",
      "avg of Brooklyn, Bergen Beach: 106.0\n",
      "avg of Queens, Cambria Heights: 86.0\n",
      "avg of Staten Island, Richmondtown: 78.0\n",
      "avg of Queens, South Ozone Park: 91.96875\n",
      "avg of Bronx, Tremont: 55.57142857142857\n",
      "avg of Bronx, Fordham: 67.51351351351352\n",
      "avg of Staten Island, Howland Hook: 100.0\n",
      "avg of Bronx, Schuylerville: 65.9090909090909\n",
      "avg of Brooklyn, Coney Island: 128.66666666666666\n",
      "avg of Staten Island, South Beach: 99.14285714285714\n",
      "avg of Bronx, Castle Hill: 74.0\n",
      "avg of Bronx, Morris Park: 76.9090909090909\n",
      "avg of Brooklyn, Bath Beach: 84.0\n",
      "avg of Queens, Douglaston: 82.75\n",
      "avg of Queens, Howard Beach: 129.16666666666666\n",
      "avg of Staten Island, Huguenot: 118.33333333333333\n",
      "avg of Queens, Whitestone: 62.166666666666664\n",
      "avg of Bronx, Edenwald: 80.14285714285714\n",
      "avg of Staten Island, Grant City: 60.5\n",
      "avg of Staten Island, Port Richmond: 48.8\n",
      "avg of Staten Island, Emerson Hill: 63.5\n",
      "avg of Staten Island, Midland Beach: 103.33333333333333\n",
      "avg of Bronx, Westchester Square: 127.44444444444444\n",
      "avg of Queens, Little Neck: 45.0\n",
      "avg of Staten Island, Rosebank: 111.85714285714286\n",
      "avg of Staten Island, New Springville: 69.4\n",
      "avg of Brooklyn, Mill Basin: 179.75\n",
      "avg of Bronx, Belmont: 91.875\n",
      "avg of Staten Island, Lighthouse Hill: 115.0\n",
      "avg of Bronx, Morrisania: 78.0\n",
      "avg of Staten Island, Arden Heights: 67.25\n",
      "avg of Staten Island, Bull's Head: 48.0\n",
      "avg of Bronx, Olinville: 53.0\n",
      "avg of Staten Island, Grymes Hill: 162.5\n",
      "avg of Queens, Hollis: 74.375\n",
      "avg of Bronx, Unionport: 90.0\n",
      "avg of Staten Island, Rossville: 75.0\n"
     ]
    },
    {
     "name": "stdout",
     "output_type": "stream",
     "text": [
      "avg of Queens, Breezy Point: 195.0\n",
      "avg of Staten Island, Willowbrook: 249.0\n",
      "avg of Staten Island, New Dorp Beach: 38.0\n",
      "avg of Staten Island, Todt Hill: 82.33333333333333\n",
      "avg of Staten Island, Oakwood: 76.5\n",
      "avg of Bronx, West Farms: 165.0\n",
      "avg of Queens, Jamaica Hills: 168.4\n",
      "avg of Staten Island, Bay Terrace, Staten Island: 55.0\n",
      "avg of Staten Island, Prince's Bay: 85.0\n"
     ]
    }
   ],
   "source": [
    "for i in price['nbhood_full'].unique():\n",
    "    print(f\"avg of {i}:\",price[price['nbhood_full'] == f\"{i}\"][\"price\"].mean())"
   ]
  },
  {
   "cell_type": "code",
   "execution_count": 44,
   "id": "500ba110",
   "metadata": {},
   "outputs": [],
   "source": [
    "top = price.groupby([\"nbhood_full\"])[\"price\"].mean().sort_values(ascending=False).head()"
   ]
  },
  {
   "cell_type": "code",
   "execution_count": 68,
   "id": "81fe6fcb",
   "metadata": {},
   "outputs": [],
   "source": [
    "top =top.reset_index()"
   ]
  },
  {
   "cell_type": "code",
   "execution_count": 73,
   "id": "b3a371ad",
   "metadata": {
    "scrolled": true
   },
   "outputs": [
    {
     "data": {
      "text/plain": [
       "nbhood_full\n",
       "Brooklyn, Bedford-Stuyvesant    2209\n",
       "Brooklyn, Williamsburg          1853\n",
       "Manhattan, Harlem               1435\n",
       "Brooklyn, Bushwick              1202\n",
       "Manhattan, Hell's Kitchen       1119\n",
       "                                ... \n",
       "Staten Island, Howland Hook        1\n",
       "Staten Island, Rossville           1\n",
       "Staten Island, Richmondtown        1\n",
       "Staten Island, Prince's Bay        1\n",
       "Staten Island, Willowbrook         1\n",
       "Name: price, Length: 217, dtype: int64"
      ]
     },
     "execution_count": 73,
     "metadata": {},
     "output_type": "execute_result"
    }
   ],
   "source": [
    "price.groupby([\"nbhood_full\"])[\"price\"].count().sort_values(ascending=False)"
   ]
  },
  {
   "cell_type": "code",
   "execution_count": 60,
   "id": "ee9fa04f",
   "metadata": {},
   "outputs": [
    {
     "name": "stdout",
     "output_type": "stream",
     "text": [
      "listing_id     41\n",
      "price          41\n",
      "nbhood_full    41\n",
      "dtype: int64\n"
     ]
    }
   ],
   "source": [
    "price[price[\"nbhood_full\"] == \"Manhattan, NoHo\"].count()"
   ]
  },
  {
   "cell_type": "code",
   "execution_count": 92,
   "id": "856d0813",
   "metadata": {},
   "outputs": [],
   "source": [
    "listings = []\n",
    "for i in top[\"nbhood_full\"].unique():\n",
    "    info = price[price[\"nbhood_full\"] == f\"{i}\"].count()\n",
    "    listings.append(info.price)"
   ]
  },
  {
   "cell_type": "code",
   "execution_count": 93,
   "id": "e05493ca",
   "metadata": {},
   "outputs": [
    {
     "data": {
      "text/plain": [
       "[np.int64(2), np.int64(61), np.int64(36), np.int64(41), np.int64(191)]"
      ]
     },
     "execution_count": 93,
     "metadata": {},
     "output_type": "execute_result"
    }
   ],
   "source": [
    "listings"
   ]
  },
  {
   "cell_type": "code",
   "execution_count": 94,
   "id": "000b2dd7",
   "metadata": {},
   "outputs": [],
   "source": [
    "top[\"listings\"] = listings"
   ]
  },
  {
   "cell_type": "code",
   "execution_count": 95,
   "id": "a0aaece8",
   "metadata": {},
   "outputs": [
    {
     "data": {
      "text/html": [
       "<div>\n",
       "<style scoped>\n",
       "    .dataframe tbody tr th:only-of-type {\n",
       "        vertical-align: middle;\n",
       "    }\n",
       "\n",
       "    .dataframe tbody tr th {\n",
       "        vertical-align: top;\n",
       "    }\n",
       "\n",
       "    .dataframe thead th {\n",
       "        text-align: right;\n",
       "    }\n",
       "</style>\n",
       "<table border=\"1\" class=\"dataframe\">\n",
       "  <thead>\n",
       "    <tr style=\"text-align: right;\">\n",
       "      <th></th>\n",
       "      <th>nbhood_full</th>\n",
       "      <th>price</th>\n",
       "      <th>listings</th>\n",
       "    </tr>\n",
       "  </thead>\n",
       "  <tbody>\n",
       "    <tr>\n",
       "      <th>0</th>\n",
       "      <td>Brooklyn, Sea Gate</td>\n",
       "      <td>805.000000</td>\n",
       "      <td>2</td>\n",
       "    </tr>\n",
       "    <tr>\n",
       "      <th>1</th>\n",
       "      <td>Manhattan, Tribeca</td>\n",
       "      <td>396.704918</td>\n",
       "      <td>61</td>\n",
       "    </tr>\n",
       "    <tr>\n",
       "      <th>2</th>\n",
       "      <td>Manhattan, Flatiron District</td>\n",
       "      <td>342.055556</td>\n",
       "      <td>36</td>\n",
       "    </tr>\n",
       "    <tr>\n",
       "      <th>3</th>\n",
       "      <td>Manhattan, NoHo</td>\n",
       "      <td>335.024390</td>\n",
       "      <td>41</td>\n",
       "    </tr>\n",
       "    <tr>\n",
       "      <th>4</th>\n",
       "      <td>Manhattan, SoHo</td>\n",
       "      <td>299.162304</td>\n",
       "      <td>191</td>\n",
       "    </tr>\n",
       "  </tbody>\n",
       "</table>\n",
       "</div>"
      ],
      "text/plain": [
       "                    nbhood_full       price  listings\n",
       "0            Brooklyn, Sea Gate  805.000000         2\n",
       "1            Manhattan, Tribeca  396.704918        61\n",
       "2  Manhattan, Flatiron District  342.055556        36\n",
       "3               Manhattan, NoHo  335.024390        41\n",
       "4               Manhattan, SoHo  299.162304       191"
      ]
     },
     "execution_count": 95,
     "metadata": {},
     "output_type": "execute_result"
    }
   ],
   "source": [
    "top"
   ]
  },
  {
   "cell_type": "code",
   "execution_count": null,
   "id": "c0e7f80f",
   "metadata": {},
   "outputs": [],
   "source": []
  }
 ],
 "metadata": {
  "kernelspec": {
   "display_name": "Python 3 (ipykernel)",
   "language": "python",
   "name": "python3"
  },
  "language_info": {
   "codemirror_mode": {
    "name": "ipython",
    "version": 3
   },
   "file_extension": ".py",
   "mimetype": "text/x-python",
   "name": "python",
   "nbconvert_exporter": "python",
   "pygments_lexer": "ipython3",
   "version": "3.12.4"
  }
 },
 "nbformat": 4,
 "nbformat_minor": 5
}
