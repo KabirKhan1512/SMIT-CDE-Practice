{
 "cells": [
  {
   "cell_type": "code",
   "execution_count": 2,
   "id": "b9b9c763",
   "metadata": {},
   "outputs": [],
   "source": [
    "import pandas as pd\n",
    "import numpy as np"
   ]
  },
  {
   "cell_type": "code",
   "execution_count": 3,
   "id": "aa2a03e2",
   "metadata": {},
   "outputs": [],
   "source": [
    "price = pd.read_csv(\"airbnb_price.csv\")\n",
    "room = pd.read_excel(\"airbnb_room_type.xlsx\")\n",
    "review = pd.read_csv(\"airbnb_last_review.tsv\", delimiter='\\t')"
   ]
  },
  {
   "cell_type": "markdown",
   "id": "372dcd2c",
   "metadata": {},
   "source": [
    "## Basic Analysis"
   ]
  },
  {
   "cell_type": "code",
   "execution_count": 4,
   "id": "83c30bfa",
   "metadata": {},
   "outputs": [],
   "source": [
    "no_pvt_rooms = len(room[room[\"room_type\"].str.upper() == 'PRIVATE ROOM'])"
   ]
  },
  {
   "cell_type": "code",
   "execution_count": 5,
   "id": "d2e26e1d",
   "metadata": {},
   "outputs": [],
   "source": [
    "price[\"price\"] = price[\"price\"].str.replace(\" dollars\",\".0\")"
   ]
  },
  {
   "cell_type": "code",
   "execution_count": 6,
   "id": "4f92504e",
   "metadata": {},
   "outputs": [],
   "source": [
    "price[\"price\"] = price[\"price\"].astype(float)"
   ]
  },
  {
   "cell_type": "code",
   "execution_count": 7,
   "id": "ba111935",
   "metadata": {},
   "outputs": [],
   "source": [
    "avg_price = price[\"price\"].mean().round(2)"
   ]
  },
  {
   "cell_type": "code",
   "execution_count": 8,
   "id": "c367d6e8",
   "metadata": {},
   "outputs": [],
   "source": [
    "review[\"last_review\"] = pd.to_datetime(review[\"last_review\"])"
   ]
  },
  {
   "cell_type": "code",
   "execution_count": 9,
   "id": "91e297cb",
   "metadata": {},
   "outputs": [],
   "source": [
    "last_review = review[\"last_review\"].max()"
   ]
  },
  {
   "cell_type": "code",
   "execution_count": 10,
   "id": "46357866",
   "metadata": {},
   "outputs": [],
   "source": [
    "first_review = review[\"last_review\"].min()"
   ]
  },
  {
   "cell_type": "code",
   "execution_count": 11,
   "id": "45555562",
   "metadata": {},
   "outputs": [],
   "source": [
    "arrays = np.array([[first_review, last_review, no_pvt_rooms, avg_price]])"
   ]
  },
  {
   "cell_type": "code",
   "execution_count": 12,
   "id": "722d69e4",
   "metadata": {},
   "outputs": [],
   "source": [
    "df = pd.DataFrame(arrays, columns = ['first_review', 'last_review', 'no_pvt_rooms', 'avg_price'])"
   ]
  },
  {
   "cell_type": "code",
   "execution_count": 13,
   "id": "9a360494",
   "metadata": {},
   "outputs": [],
   "source": [
    "df.to_csv(\"review_dates.csv\", index=False)"
   ]
  },
  {
   "cell_type": "markdown",
   "id": "d93f10cc",
   "metadata": {},
   "source": [
    "## Intermediate Analysis"
   ]
  },
  {
   "cell_type": "code",
   "execution_count": 19,
   "id": "500ba110",
   "metadata": {},
   "outputs": [],
   "source": [
    "top = price.groupby([\"nbhood_full\"])[\"price\"].mean().sort_values(ascending=False).head()"
   ]
  },
  {
   "cell_type": "code",
   "execution_count": 20,
   "id": "81fe6fcb",
   "metadata": {},
   "outputs": [],
   "source": [
    "top =top.reset_index()"
   ]
  },
  {
   "cell_type": "code",
   "execution_count": 21,
   "id": "b3a371ad",
   "metadata": {
    "scrolled": true
   },
   "outputs": [
    {
     "data": {
      "text/plain": [
       "nbhood_full\n",
       "Brooklyn, Bedford-Stuyvesant    2209\n",
       "Brooklyn, Williamsburg          1853\n",
       "Manhattan, Harlem               1435\n",
       "Brooklyn, Bushwick              1202\n",
       "Manhattan, Hell's Kitchen       1119\n",
       "                                ... \n",
       "Staten Island, Howland Hook        1\n",
       "Staten Island, Rossville           1\n",
       "Staten Island, Richmondtown        1\n",
       "Staten Island, Prince's Bay        1\n",
       "Staten Island, Willowbrook         1\n",
       "Name: price, Length: 217, dtype: int64"
      ]
     },
     "execution_count": 21,
     "metadata": {},
     "output_type": "execute_result"
    }
   ],
   "source": [
    "price.groupby([\"nbhood_full\"])[\"price\"].count().sort_values(ascending=False)"
   ]
  },
  {
   "cell_type": "code",
   "execution_count": 22,
   "id": "ee9fa04f",
   "metadata": {},
   "outputs": [
    {
     "data": {
      "text/plain": [
       "listing_id     41\n",
       "price          41\n",
       "nbhood_full    41\n",
       "dtype: int64"
      ]
     },
     "execution_count": 22,
     "metadata": {},
     "output_type": "execute_result"
    }
   ],
   "source": [
    "price[price[\"nbhood_full\"] == \"Manhattan, NoHo\"].count()"
   ]
  },
  {
   "cell_type": "code",
   "execution_count": 23,
   "id": "856d0813",
   "metadata": {},
   "outputs": [],
   "source": [
    "listings = []\n",
    "for i in top[\"nbhood_full\"].unique():\n",
    "    info = price[price[\"nbhood_full\"] == f\"{i}\"].count()\n",
    "    listings.append(info.price)"
   ]
  },
  {
   "cell_type": "code",
   "execution_count": 24,
   "id": "e05493ca",
   "metadata": {},
   "outputs": [
    {
     "data": {
      "text/plain": [
       "[np.int64(2), np.int64(61), np.int64(36), np.int64(41), np.int64(191)]"
      ]
     },
     "execution_count": 24,
     "metadata": {},
     "output_type": "execute_result"
    }
   ],
   "source": [
    "listings"
   ]
  },
  {
   "cell_type": "code",
   "execution_count": 27,
   "id": "000b2dd7",
   "metadata": {},
   "outputs": [],
   "source": [
    "top[\"listings\"] = listings"
   ]
  },
  {
   "cell_type": "code",
   "execution_count": 28,
   "id": "a0aaece8",
   "metadata": {},
   "outputs": [
    {
     "data": {
      "text/html": [
       "<div>\n",
       "<style scoped>\n",
       "    .dataframe tbody tr th:only-of-type {\n",
       "        vertical-align: middle;\n",
       "    }\n",
       "\n",
       "    .dataframe tbody tr th {\n",
       "        vertical-align: top;\n",
       "    }\n",
       "\n",
       "    .dataframe thead th {\n",
       "        text-align: right;\n",
       "    }\n",
       "</style>\n",
       "<table border=\"1\" class=\"dataframe\">\n",
       "  <thead>\n",
       "    <tr style=\"text-align: right;\">\n",
       "      <th></th>\n",
       "      <th>neighborhood</th>\n",
       "      <th>average_price</th>\n",
       "      <th>listings</th>\n",
       "    </tr>\n",
       "  </thead>\n",
       "  <tbody>\n",
       "    <tr>\n",
       "      <th>0</th>\n",
       "      <td>Brooklyn, Sea Gate</td>\n",
       "      <td>805.000000</td>\n",
       "      <td>2</td>\n",
       "    </tr>\n",
       "    <tr>\n",
       "      <th>1</th>\n",
       "      <td>Manhattan, Tribeca</td>\n",
       "      <td>396.704918</td>\n",
       "      <td>61</td>\n",
       "    </tr>\n",
       "    <tr>\n",
       "      <th>2</th>\n",
       "      <td>Manhattan, Flatiron District</td>\n",
       "      <td>342.055556</td>\n",
       "      <td>36</td>\n",
       "    </tr>\n",
       "    <tr>\n",
       "      <th>3</th>\n",
       "      <td>Manhattan, NoHo</td>\n",
       "      <td>335.024390</td>\n",
       "      <td>41</td>\n",
       "    </tr>\n",
       "    <tr>\n",
       "      <th>4</th>\n",
       "      <td>Manhattan, SoHo</td>\n",
       "      <td>299.162304</td>\n",
       "      <td>191</td>\n",
       "    </tr>\n",
       "  </tbody>\n",
       "</table>\n",
       "</div>"
      ],
      "text/plain": [
       "                   neighborhood  average_price  listings\n",
       "0            Brooklyn, Sea Gate     805.000000         2\n",
       "1            Manhattan, Tribeca     396.704918        61\n",
       "2  Manhattan, Flatiron District     342.055556        36\n",
       "3               Manhattan, NoHo     335.024390        41\n",
       "4               Manhattan, SoHo     299.162304       191"
      ]
     },
     "execution_count": 28,
     "metadata": {},
     "output_type": "execute_result"
    }
   ],
   "source": [
    "top"
   ]
  },
  {
   "cell_type": "code",
   "execution_count": 29,
   "id": "c0e7f80f",
   "metadata": {},
   "outputs": [],
   "source": [
    "top.rename(columns={\n",
    "    'nbhood_full': 'neighborhood',\n",
    "    'price': 'average_price',\n",
    "    'listings': 'number_of_listings'\n",
    "}, inplace=True)"
   ]
  },
  {
   "cell_type": "code",
   "execution_count": 30,
   "id": "6917bb85",
   "metadata": {},
   "outputs": [
    {
     "data": {
      "text/html": [
       "<div>\n",
       "<style scoped>\n",
       "    .dataframe tbody tr th:only-of-type {\n",
       "        vertical-align: middle;\n",
       "    }\n",
       "\n",
       "    .dataframe tbody tr th {\n",
       "        vertical-align: top;\n",
       "    }\n",
       "\n",
       "    .dataframe thead th {\n",
       "        text-align: right;\n",
       "    }\n",
       "</style>\n",
       "<table border=\"1\" class=\"dataframe\">\n",
       "  <thead>\n",
       "    <tr style=\"text-align: right;\">\n",
       "      <th></th>\n",
       "      <th>neighborhood</th>\n",
       "      <th>average_price</th>\n",
       "      <th>number_of_listings</th>\n",
       "    </tr>\n",
       "  </thead>\n",
       "  <tbody>\n",
       "    <tr>\n",
       "      <th>0</th>\n",
       "      <td>Brooklyn, Sea Gate</td>\n",
       "      <td>805.000000</td>\n",
       "      <td>2</td>\n",
       "    </tr>\n",
       "    <tr>\n",
       "      <th>1</th>\n",
       "      <td>Manhattan, Tribeca</td>\n",
       "      <td>396.704918</td>\n",
       "      <td>61</td>\n",
       "    </tr>\n",
       "    <tr>\n",
       "      <th>2</th>\n",
       "      <td>Manhattan, Flatiron District</td>\n",
       "      <td>342.055556</td>\n",
       "      <td>36</td>\n",
       "    </tr>\n",
       "    <tr>\n",
       "      <th>3</th>\n",
       "      <td>Manhattan, NoHo</td>\n",
       "      <td>335.024390</td>\n",
       "      <td>41</td>\n",
       "    </tr>\n",
       "    <tr>\n",
       "      <th>4</th>\n",
       "      <td>Manhattan, SoHo</td>\n",
       "      <td>299.162304</td>\n",
       "      <td>191</td>\n",
       "    </tr>\n",
       "  </tbody>\n",
       "</table>\n",
       "</div>"
      ],
      "text/plain": [
       "                   neighborhood  average_price  number_of_listings\n",
       "0            Brooklyn, Sea Gate     805.000000                   2\n",
       "1            Manhattan, Tribeca     396.704918                  61\n",
       "2  Manhattan, Flatiron District     342.055556                  36\n",
       "3               Manhattan, NoHo     335.024390                  41\n",
       "4               Manhattan, SoHo     299.162304                 191"
      ]
     },
     "execution_count": 30,
     "metadata": {},
     "output_type": "execute_result"
    }
   ],
   "source": [
    "top"
   ]
  },
  {
   "cell_type": "markdown",
   "id": "4c71abe2",
   "metadata": {},
   "source": [
    "## Word Analysis"
   ]
  },
  {
   "cell_type": "code",
   "execution_count": 43,
   "id": "296a435d",
   "metadata": {},
   "outputs": [
    {
     "data": {
      "text/html": [
       "<div>\n",
       "<style scoped>\n",
       "    .dataframe tbody tr th:only-of-type {\n",
       "        vertical-align: middle;\n",
       "    }\n",
       "\n",
       "    .dataframe tbody tr th {\n",
       "        vertical-align: top;\n",
       "    }\n",
       "\n",
       "    .dataframe thead th {\n",
       "        text-align: right;\n",
       "    }\n",
       "</style>\n",
       "<table border=\"1\" class=\"dataframe\">\n",
       "  <thead>\n",
       "    <tr style=\"text-align: right;\">\n",
       "      <th></th>\n",
       "      <th>listing_id</th>\n",
       "      <th>description</th>\n",
       "      <th>room_type</th>\n",
       "    </tr>\n",
       "  </thead>\n",
       "  <tbody>\n",
       "    <tr>\n",
       "      <th>0</th>\n",
       "      <td>2595</td>\n",
       "      <td>Skylit Midtown Castle</td>\n",
       "      <td>Entire home/apt</td>\n",
       "    </tr>\n",
       "    <tr>\n",
       "      <th>1</th>\n",
       "      <td>3831</td>\n",
       "      <td>Cozy Entire Floor of Brownstone</td>\n",
       "      <td>Entire home/apt</td>\n",
       "    </tr>\n",
       "    <tr>\n",
       "      <th>2</th>\n",
       "      <td>5099</td>\n",
       "      <td>Large Cozy 1 BR Apartment In Midtown East</td>\n",
       "      <td>Entire home/apt</td>\n",
       "    </tr>\n",
       "    <tr>\n",
       "      <th>3</th>\n",
       "      <td>5178</td>\n",
       "      <td>Large Furnished Room Near B'way</td>\n",
       "      <td>private room</td>\n",
       "    </tr>\n",
       "    <tr>\n",
       "      <th>4</th>\n",
       "      <td>5238</td>\n",
       "      <td>Cute &amp; Cozy Lower East Side 1 bdrm</td>\n",
       "      <td>Entire home/apt</td>\n",
       "    </tr>\n",
       "    <tr>\n",
       "      <th>...</th>\n",
       "      <td>...</td>\n",
       "      <td>...</td>\n",
       "      <td>...</td>\n",
       "    </tr>\n",
       "    <tr>\n",
       "      <th>25204</th>\n",
       "      <td>36425863</td>\n",
       "      <td>Lovely Privet Bedroom with Privet Restroom</td>\n",
       "      <td>PRIVATE ROOM</td>\n",
       "    </tr>\n",
       "    <tr>\n",
       "      <th>25205</th>\n",
       "      <td>36427429</td>\n",
       "      <td>No.2 with queen size bed</td>\n",
       "      <td>PRIVATE ROOM</td>\n",
       "    </tr>\n",
       "    <tr>\n",
       "      <th>25206</th>\n",
       "      <td>36438336</td>\n",
       "      <td>Seas The Moment</td>\n",
       "      <td>Private room</td>\n",
       "    </tr>\n",
       "    <tr>\n",
       "      <th>25207</th>\n",
       "      <td>36442252</td>\n",
       "      <td>1B-1B apartment near by Metro</td>\n",
       "      <td>Entire home/apt</td>\n",
       "    </tr>\n",
       "    <tr>\n",
       "      <th>25208</th>\n",
       "      <td>36455809</td>\n",
       "      <td>Cozy Private Room in Bushwick, Brooklyn</td>\n",
       "      <td>Private room</td>\n",
       "    </tr>\n",
       "  </tbody>\n",
       "</table>\n",
       "<p>25209 rows × 3 columns</p>\n",
       "</div>"
      ],
      "text/plain": [
       "       listing_id                                 description        room_type\n",
       "0            2595                       Skylit Midtown Castle  Entire home/apt\n",
       "1            3831             Cozy Entire Floor of Brownstone  Entire home/apt\n",
       "2            5099   Large Cozy 1 BR Apartment In Midtown East  Entire home/apt\n",
       "3            5178             Large Furnished Room Near B'way     private room\n",
       "4            5238          Cute & Cozy Lower East Side 1 bdrm  Entire home/apt\n",
       "...           ...                                         ...              ...\n",
       "25204    36425863  Lovely Privet Bedroom with Privet Restroom     PRIVATE ROOM\n",
       "25205    36427429                    No.2 with queen size bed     PRIVATE ROOM\n",
       "25206    36438336                             Seas The Moment     Private room\n",
       "25207    36442252               1B-1B apartment near by Metro  Entire home/apt\n",
       "25208    36455809     Cozy Private Room in Bushwick, Brooklyn     Private room\n",
       "\n",
       "[25209 rows x 3 columns]"
      ]
     },
     "execution_count": 43,
     "metadata": {},
     "output_type": "execute_result"
    }
   ],
   "source": [
    "room"
   ]
  },
  {
   "cell_type": "markdown",
   "id": "ce3d84af",
   "metadata": {},
   "source": [
    "## Advanced Analysis"
   ]
  },
  {
   "cell_type": "code",
   "execution_count": 32,
   "id": "7668969d",
   "metadata": {},
   "outputs": [],
   "source": [
    "price_room = pd.merge(room,price,how=\"left\")"
   ]
  },
  {
   "cell_type": "code",
   "execution_count": 49,
   "id": "fb7a9b38",
   "metadata": {},
   "outputs": [
    {
     "data": {
      "text/plain": [
       "np.float64(81.63816484677703)"
      ]
     },
     "execution_count": 49,
     "metadata": {},
     "output_type": "execute_result"
    }
   ],
   "source": [
    "private_room_avg = price_room[price_room[\"room_type\"].str.lower() == 'private room'][\"price\"].mean()\n",
    "private_room_avg"
   ]
  },
  {
   "cell_type": "code",
   "execution_count": 50,
   "id": "4e2326cd",
   "metadata": {},
   "outputs": [
    {
     "data": {
      "text/plain": [
       "np.float64(53.465076660988075)"
      ]
     },
     "execution_count": 50,
     "metadata": {},
     "output_type": "execute_result"
    }
   ],
   "source": [
    "shared_room_avg = price_room[price_room[\"room_type\"].str.lower() == 'shared room'][\"price\"].mean()\n",
    "shared_room_avg"
   ]
  },
  {
   "cell_type": "code",
   "execution_count": 51,
   "id": "a0d338c3",
   "metadata": {},
   "outputs": [
    {
     "data": {
      "text/plain": [
       "np.float64(197.16666666666666)"
      ]
     },
     "execution_count": 51,
     "metadata": {},
     "output_type": "execute_result"
    }
   ],
   "source": [
    "apt_avg = price_room[price_room[\"room_type\"].str.lower() == 'entire home/apt'][\"price\"].mean()\n",
    "apt_avg"
   ]
  },
  {
   "cell_type": "markdown",
   "id": "58527f21",
   "metadata": {},
   "source": [
    "## Bar Chart of Averages"
   ]
  },
  {
   "cell_type": "code",
   "execution_count": null,
   "id": "d746c858",
   "metadata": {},
   "outputs": [],
   "source": []
  },
  {
   "cell_type": "markdown",
   "id": "da098227",
   "metadata": {},
   "source": [
    "## Line Graph"
   ]
  },
  {
   "cell_type": "code",
   "execution_count": null,
   "id": "eaa47f26",
   "metadata": {},
   "outputs": [],
   "source": []
  }
 ],
 "metadata": {
  "kernelspec": {
   "display_name": "Python 3 (ipykernel)",
   "language": "python",
   "name": "python3"
  },
  "language_info": {
   "codemirror_mode": {
    "name": "ipython",
    "version": 3
   },
   "file_extension": ".py",
   "mimetype": "text/x-python",
   "name": "python",
   "nbconvert_exporter": "python",
   "pygments_lexer": "ipython3",
   "version": "3.12.4"
  }
 },
 "nbformat": 4,
 "nbformat_minor": 5
}
