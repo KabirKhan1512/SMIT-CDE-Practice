{
 "cells": [
  {
   "cell_type": "code",
   "execution_count": 1,
   "id": "b48eef96",
   "metadata": {},
   "outputs": [
    {
     "name": "stdout",
     "output_type": "stream",
     "text": [
      "Collecting qrcode[pil]\n",
      "  Using cached qrcode-8.0-py3-none-any.whl.metadata (17 kB)\n",
      "Requirement already satisfied: colorama in c:\\users\\pmls\\appdata\\roaming\\python\\python312\\site-packages (from qrcode[pil]) (0.4.6)\n",
      "Requirement already satisfied: pillow>=9.1.0 in c:\\users\\pmls\\anaconda3\\lib\\site-packages (from qrcode[pil]) (10.3.0)\n",
      "Using cached qrcode-8.0-py3-none-any.whl (45 kB)\n",
      "Installing collected packages: qrcode\n",
      "Successfully installed qrcode-8.0\n",
      "Note: you may need to restart the kernel to use updated packages.\n"
     ]
    }
   ],
   "source": [
    "pip install qrcode[pil]\n"
   ]
  },
  {
   "cell_type": "code",
   "execution_count": 1,
   "id": "f5aa2fd8",
   "metadata": {},
   "outputs": [
    {
     "name": "stdout",
     "output_type": "stream",
     "text": [
      "QR Code saved as 'qrcode.png'\n"
     ]
    }
   ],
   "source": [
    "import qrcode\n",
    "\n",
    "# Data to encode\n",
    "data = \"https://example.com\"\n",
    "\n",
    "# Create a QR Code\n",
    "qr = qrcode.QRCode(\n",
    "    version=1,  # Version 1 means a 21x21 matrix\n",
    "    error_correction=qrcode.constants.ERROR_CORRECT_L,\n",
    "    box_size=10,  # Size of each box in the QR code grid\n",
    "    border=4,  # Border size (minimum is 4)\n",
    ")\n",
    "\n",
    "# Add data to the QR Code\n",
    "qr.add_data(\"https://www.linkedin.com/in/kabirkhan1512/\")\n",
    "qr.make(fit=True)\n",
    "\n",
    "# Create an image of the QR Code\n",
    "img = qr.make_image(fill_color=\"black\", back_color=\"white\")\n",
    "\n",
    "# Save the image as a PNG file\n",
    "img.save(\"qrcode.png\")\n",
    "\n",
    "print(\"QR Code saved as 'qrcode.png'\")\n"
   ]
  },
  {
   "cell_type": "code",
   "execution_count": null,
   "id": "b3701552",
   "metadata": {},
   "outputs": [],
   "source": []
  }
 ],
 "metadata": {
  "kernelspec": {
   "display_name": "Python 3 (ipykernel)",
   "language": "python",
   "name": "python3"
  },
  "language_info": {
   "codemirror_mode": {
    "name": "ipython",
    "version": 3
   },
   "file_extension": ".py",
   "mimetype": "text/x-python",
   "name": "python",
   "nbconvert_exporter": "python",
   "pygments_lexer": "ipython3",
   "version": "3.12.4"
  }
 },
 "nbformat": 4,
 "nbformat_minor": 5
}
