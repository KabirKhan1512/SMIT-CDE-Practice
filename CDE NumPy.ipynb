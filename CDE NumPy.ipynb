{
 "cells": [
  {
   "cell_type": "code",
   "execution_count": 1,
   "id": "2931d550-02d1-450b-a1af-4d333d2c1bf5",
   "metadata": {},
   "outputs": [
    {
     "name": "stdout",
     "output_type": "stream",
     "text": [
      "Requirement already satisfied: numpy in c:\\users\\pmls\\anaconda3\\lib\\site-packages (1.26.4)\n",
      "Collecting numpy\n",
      "  Downloading numpy-2.1.3-cp312-cp312-win_amd64.whl.metadata (60 kB)\n",
      "     ---------------------------------------- 0.0/60.8 kB ? eta -:--:--\n",
      "     ------------- -------------------------- 20.5/60.8 kB ? eta -:--:--\n",
      "     ------------------- ------------------ 30.7/60.8 kB 325.1 kB/s eta 0:00:01\n",
      "     ------------------------- ------------ 41.0/60.8 kB 245.8 kB/s eta 0:00:01\n",
      "     ------------------------------- ------ 51.2/60.8 kB 262.6 kB/s eta 0:00:01\n",
      "     ------------------------------- ------ 51.2/60.8 kB 262.6 kB/s eta 0:00:01\n",
      "     -------------------------------------- 60.8/60.8 kB 215.3 kB/s eta 0:00:00\n",
      "Downloading numpy-2.1.3-cp312-cp312-win_amd64.whl (12.6 MB)\n",
      "   ---------------------------------------- 0.0/12.6 MB ? eta -:--:--\n",
      "   ---------------------------------------- 0.1/12.6 MB ? eta -:--:--\n",
      "   ---------------------------------------- 0.1/12.6 MB ? eta -:--:--\n",
      "   ---------------------------------------- 0.1/12.6 MB 655.4 kB/s eta 0:00:20\n",
      "   ---------------------------------------- 0.1/12.6 MB 853.3 kB/s eta 0:00:15\n",
      "    --------------------------------------- 0.2/12.6 MB 952.6 kB/s eta 0:00:14\n",
      "    --------------------------------------- 0.2/12.6 MB 850.1 kB/s eta 0:00:15\n",
      "   - -------------------------------------- 0.3/12.6 MB 1.0 MB/s eta 0:00:12\n",
      "   - -------------------------------------- 0.3/12.6 MB 1.0 MB/s eta 0:00:12\n",
      "   - -------------------------------------- 0.4/12.6 MB 1.1 MB/s eta 0:00:12\n",
      "   - -------------------------------------- 0.5/12.6 MB 1.2 MB/s eta 0:00:11\n",
      "   -- ------------------------------------- 0.6/12.6 MB 1.3 MB/s eta 0:00:10\n",
      "   -- ------------------------------------- 0.8/12.6 MB 1.4 MB/s eta 0:00:09\n",
      "   -- ------------------------------------- 0.9/12.6 MB 1.5 MB/s eta 0:00:08\n",
      "   --- ------------------------------------ 1.1/12.6 MB 1.7 MB/s eta 0:00:07\n",
      "   --- ------------------------------------ 1.2/12.6 MB 1.7 MB/s eta 0:00:07\n",
      "   ---- ----------------------------------- 1.3/12.6 MB 1.9 MB/s eta 0:00:07\n",
      "   ---- ----------------------------------- 1.4/12.6 MB 1.9 MB/s eta 0:00:06\n",
      "   ---- ----------------------------------- 1.5/12.6 MB 1.8 MB/s eta 0:00:07\n",
      "   ----- ---------------------------------- 1.8/12.6 MB 2.1 MB/s eta 0:00:06\n",
      "   ----- ---------------------------------- 1.9/12.6 MB 2.1 MB/s eta 0:00:06\n",
      "   ------ --------------------------------- 2.1/12.6 MB 2.2 MB/s eta 0:00:05\n",
      "   ------- -------------------------------- 2.2/12.6 MB 2.3 MB/s eta 0:00:05\n",
      "   ------- -------------------------------- 2.4/12.6 MB 2.3 MB/s eta 0:00:05\n",
      "   ------- -------------------------------- 2.5/12.6 MB 2.3 MB/s eta 0:00:05\n",
      "   -------- ------------------------------- 2.7/12.6 MB 2.3 MB/s eta 0:00:05\n",
      "   -------- ------------------------------- 2.7/12.6 MB 2.3 MB/s eta 0:00:05\n",
      "   --------- ------------------------------ 2.9/12.6 MB 2.4 MB/s eta 0:00:05\n",
      "   --------- ------------------------------ 3.0/12.6 MB 2.4 MB/s eta 0:00:04\n",
      "   ---------- ----------------------------- 3.1/12.6 MB 2.4 MB/s eta 0:00:04\n",
      "   ---------- ----------------------------- 3.4/12.6 MB 2.5 MB/s eta 0:00:04\n",
      "   ----------- ---------------------------- 3.5/12.6 MB 2.5 MB/s eta 0:00:04\n",
      "   ----------- ---------------------------- 3.6/12.6 MB 2.5 MB/s eta 0:00:04\n",
      "   ----------- ---------------------------- 3.7/12.6 MB 2.5 MB/s eta 0:00:04\n",
      "   ------------ --------------------------- 3.8/12.6 MB 2.5 MB/s eta 0:00:04\n",
      "   ------------ --------------------------- 3.9/12.6 MB 2.5 MB/s eta 0:00:04\n",
      "   ------------ --------------------------- 3.9/12.6 MB 2.5 MB/s eta 0:00:04\n",
      "   ------------ --------------------------- 3.9/12.6 MB 2.5 MB/s eta 0:00:04\n",
      "   ------------ --------------------------- 3.9/12.6 MB 2.5 MB/s eta 0:00:04\n",
      "   ------------ --------------------------- 4.0/12.6 MB 2.3 MB/s eta 0:00:04\n",
      "   ------------ --------------------------- 4.1/12.6 MB 2.3 MB/s eta 0:00:04\n",
      "   ------------- -------------------------- 4.1/12.6 MB 2.2 MB/s eta 0:00:04\n",
      "   ------------- -------------------------- 4.1/12.6 MB 2.2 MB/s eta 0:00:04\n",
      "   ------------- -------------------------- 4.2/12.6 MB 2.2 MB/s eta 0:00:04\n",
      "   ------------- -------------------------- 4.3/12.6 MB 2.1 MB/s eta 0:00:04\n",
      "   ------------- -------------------------- 4.3/12.6 MB 2.1 MB/s eta 0:00:04\n",
      "   -------------- ------------------------- 4.4/12.6 MB 2.1 MB/s eta 0:00:04\n",
      "   -------------- ------------------------- 4.5/12.6 MB 2.1 MB/s eta 0:00:04\n",
      "   -------------- ------------------------- 4.6/12.6 MB 2.1 MB/s eta 0:00:04\n",
      "   -------------- ------------------------- 4.6/12.6 MB 2.1 MB/s eta 0:00:04\n",
      "   --------------- ------------------------ 4.8/12.6 MB 2.1 MB/s eta 0:00:04\n",
      "   --------------- ------------------------ 4.9/12.6 MB 2.1 MB/s eta 0:00:04\n",
      "   --------------- ------------------------ 5.0/12.6 MB 2.1 MB/s eta 0:00:04\n",
      "   ---------------- ----------------------- 5.2/12.6 MB 2.2 MB/s eta 0:00:04\n",
      "   ---------------- ----------------------- 5.3/12.6 MB 2.2 MB/s eta 0:00:04\n",
      "   ----------------- ---------------------- 5.4/12.6 MB 2.2 MB/s eta 0:00:04\n",
      "   ----------------- ---------------------- 5.6/12.6 MB 2.2 MB/s eta 0:00:04\n",
      "   ------------------ --------------------- 5.7/12.6 MB 2.2 MB/s eta 0:00:04\n",
      "   ------------------ --------------------- 5.8/12.6 MB 2.2 MB/s eta 0:00:04\n",
      "   ------------------- -------------------- 6.0/12.6 MB 2.3 MB/s eta 0:00:03\n",
      "   ------------------- -------------------- 6.1/12.6 MB 2.3 MB/s eta 0:00:03\n",
      "   ------------------- -------------------- 6.3/12.6 MB 2.3 MB/s eta 0:00:03\n",
      "   -------------------- ------------------- 6.4/12.6 MB 2.3 MB/s eta 0:00:03\n",
      "   -------------------- ------------------- 6.5/12.6 MB 2.3 MB/s eta 0:00:03\n",
      "   --------------------- ------------------ 6.7/12.6 MB 2.3 MB/s eta 0:00:03\n",
      "   --------------------- ------------------ 6.7/12.6 MB 2.3 MB/s eta 0:00:03\n",
      "   --------------------- ------------------ 6.7/12.6 MB 2.3 MB/s eta 0:00:03\n",
      "   --------------------- ------------------ 6.8/12.6 MB 2.3 MB/s eta 0:00:03\n",
      "   ---------------------- ----------------- 6.9/12.6 MB 2.3 MB/s eta 0:00:03\n",
      "   ---------------------- ----------------- 7.0/12.6 MB 2.3 MB/s eta 0:00:03\n",
      "   ---------------------- ----------------- 7.2/12.6 MB 2.3 MB/s eta 0:00:03\n",
      "   ----------------------- ---------------- 7.3/12.6 MB 2.3 MB/s eta 0:00:03\n",
      "   ----------------------- ---------------- 7.4/12.6 MB 2.3 MB/s eta 0:00:03\n",
      "   ----------------------- ---------------- 7.5/12.6 MB 2.3 MB/s eta 0:00:03\n",
      "   ------------------------ --------------- 7.7/12.6 MB 2.3 MB/s eta 0:00:03\n",
      "   ------------------------ --------------- 7.8/12.6 MB 2.3 MB/s eta 0:00:03\n",
      "   ------------------------ --------------- 7.9/12.6 MB 2.3 MB/s eta 0:00:03\n",
      "   ------------------------- -------------- 8.0/12.6 MB 2.3 MB/s eta 0:00:02\n",
      "   -------------------------- ------------- 8.2/12.6 MB 2.3 MB/s eta 0:00:02\n",
      "   -------------------------- ------------- 8.2/12.6 MB 2.3 MB/s eta 0:00:02\n",
      "   -------------------------- ------------- 8.5/12.6 MB 2.4 MB/s eta 0:00:02\n",
      "   --------------------------- ------------ 8.6/12.6 MB 2.4 MB/s eta 0:00:02\n",
      "   --------------------------- ------------ 8.8/12.6 MB 2.4 MB/s eta 0:00:02\n",
      "   ---------------------------- ----------- 8.8/12.6 MB 2.4 MB/s eta 0:00:02\n",
      "   ---------------------------- ----------- 9.0/12.6 MB 2.4 MB/s eta 0:00:02\n",
      "   ---------------------------- ----------- 9.1/12.6 MB 2.4 MB/s eta 0:00:02\n",
      "   ----------------------------- ---------- 9.2/12.6 MB 2.4 MB/s eta 0:00:02\n",
      "   ----------------------------- ---------- 9.2/12.6 MB 2.4 MB/s eta 0:00:02\n",
      "   ----------------------------- ---------- 9.3/12.6 MB 2.4 MB/s eta 0:00:02\n",
      "   ----------------------------- ---------- 9.3/12.6 MB 2.4 MB/s eta 0:00:02\n",
      "   ------------------------------ --------- 9.5/12.6 MB 2.4 MB/s eta 0:00:02\n",
      "   ------------------------------ --------- 9.6/12.6 MB 2.4 MB/s eta 0:00:02\n",
      "   ------------------------------ --------- 9.7/12.6 MB 2.4 MB/s eta 0:00:02\n",
      "   ------------------------------- -------- 9.9/12.6 MB 2.4 MB/s eta 0:00:02\n",
      "   ------------------------------- -------- 9.9/12.6 MB 2.4 MB/s eta 0:00:02\n",
      "   ------------------------------- -------- 9.9/12.6 MB 2.4 MB/s eta 0:00:02\n",
      "   -------------------------------- ------- 10.1/12.6 MB 2.4 MB/s eta 0:00:02\n",
      "   -------------------------------- ------- 10.3/12.6 MB 2.4 MB/s eta 0:00:01\n",
      "   --------------------------------- ------ 10.4/12.6 MB 2.5 MB/s eta 0:00:01\n",
      "   --------------------------------- ------ 10.6/12.6 MB 2.6 MB/s eta 0:00:01\n",
      "   ---------------------------------- ----- 10.7/12.6 MB 2.6 MB/s eta 0:00:01\n",
      "   ---------------------------------- ----- 10.9/12.6 MB 2.6 MB/s eta 0:00:01\n",
      "   ----------------------------------- ---- 11.0/12.6 MB 2.6 MB/s eta 0:00:01\n",
      "   ----------------------------------- ---- 11.1/12.6 MB 2.6 MB/s eta 0:00:01\n",
      "   ----------------------------------- ---- 11.3/12.6 MB 2.6 MB/s eta 0:00:01\n",
      "   ------------------------------------ --- 11.4/12.6 MB 2.6 MB/s eta 0:00:01\n",
      "   ------------------------------------ --- 11.5/12.6 MB 2.6 MB/s eta 0:00:01\n",
      "   ------------------------------------ --- 11.6/12.6 MB 2.6 MB/s eta 0:00:01\n",
      "   ------------------------------------- -- 11.7/12.6 MB 2.6 MB/s eta 0:00:01\n",
      "   ------------------------------------- -- 11.8/12.6 MB 2.5 MB/s eta 0:00:01\n",
      "   -------------------------------------- - 12.0/12.6 MB 2.5 MB/s eta 0:00:01\n",
      "   -------------------------------------- - 12.1/12.6 MB 2.5 MB/s eta 0:00:01\n",
      "   -------------------------------------- - 12.2/12.6 MB 2.5 MB/s eta 0:00:01\n",
      "   ---------------------------------------  12.4/12.6 MB 2.5 MB/s eta 0:00:01\n",
      "   ---------------------------------------  12.5/12.6 MB 2.5 MB/s eta 0:00:01\n",
      "   ---------------------------------------  12.5/12.6 MB 2.5 MB/s eta 0:00:01\n",
      "   ---------------------------------------  12.6/12.6 MB 2.5 MB/s eta 0:00:01\n",
      "   ---------------------------------------  12.6/12.6 MB 2.5 MB/s eta 0:00:01\n",
      "   ---------------------------------------- 12.6/12.6 MB 2.4 MB/s eta 0:00:00\n",
      "Installing collected packages: numpy\n",
      "  Attempting uninstall: numpy\n",
      "    Found existing installation: numpy 1.26.4\n",
      "    Uninstalling numpy-1.26.4:\n",
      "      Successfully uninstalled numpy-1.26.4\n",
      "Successfully installed numpy-2.1.3\n",
      "Note: you may need to restart the kernel to use updated packages.\n"
     ]
    },
    {
     "name": "stderr",
     "output_type": "stream",
     "text": [
      "ERROR: pip's dependency resolver does not currently take into account all the packages that are installed. This behaviour is the source of the following dependency conflicts.\n",
      "contourpy 1.2.0 requires numpy<2.0,>=1.20, but you have numpy 2.1.3 which is incompatible.\n",
      "numba 0.59.1 requires numpy<1.27,>=1.22, but you have numpy 2.1.3 which is incompatible.\n",
      "pywavelets 1.5.0 requires numpy<2.0,>=1.22.4, but you have numpy 2.1.3 which is incompatible.\n",
      "streamlit 1.32.0 requires numpy<2,>=1.19.3, but you have numpy 2.1.3 which is incompatible.\n"
     ]
    }
   ],
   "source": [
    "pip install numpy --upgrade"
   ]
  },
  {
   "cell_type": "code",
   "execution_count": 1,
   "id": "2a754f1c-812f-418e-89c8-3d8d07459fa1",
   "metadata": {},
   "outputs": [],
   "source": [
    "import numpy as np"
   ]
  },
  {
   "cell_type": "code",
   "execution_count": 2,
   "id": "51ff9463-db51-46ec-8f7f-63bceaae3b09",
   "metadata": {},
   "outputs": [],
   "source": [
    "array_a = np.array([1,2,3])"
   ]
  },
  {
   "cell_type": "code",
   "execution_count": 3,
   "id": "03b531d5-e621-4eb0-a145-7345c717a13e",
   "metadata": {},
   "outputs": [
    {
     "data": {
      "text/plain": [
       "array([1, 2, 3])"
      ]
     },
     "execution_count": 3,
     "metadata": {},
     "output_type": "execute_result"
    }
   ],
   "source": [
    "array_a"
   ]
  },
  {
   "cell_type": "code",
   "execution_count": 4,
   "id": "5efa3e7a-82c2-406f-9968-a2e0074d46b9",
   "metadata": {},
   "outputs": [],
   "source": [
    "array_b = np.array([[1,2,3],[4,5,6]])"
   ]
  },
  {
   "cell_type": "code",
   "execution_count": 5,
   "id": "a03d4fbc-46be-4029-9277-ed11776d6b43",
   "metadata": {},
   "outputs": [
    {
     "data": {
      "text/plain": [
       "array([[1, 2, 3],\n",
       "       [4, 5, 6]])"
      ]
     },
     "execution_count": 5,
     "metadata": {},
     "output_type": "execute_result"
    }
   ],
   "source": [
    "array_b"
   ]
  },
  {
   "cell_type": "code",
   "execution_count": 6,
   "id": "d6ea8787-32cd-4046-930a-1a9dac77f745",
   "metadata": {},
   "outputs": [
    {
     "data": {
      "text/plain": [
       "array([[1.        , 1.41421356, 1.73205081],\n",
       "       [2.        , 2.23606798, 2.44948974]])"
      ]
     },
     "execution_count": 6,
     "metadata": {},
     "output_type": "execute_result"
    }
   ],
   "source": [
    "np.sqrt(array_b)"
   ]
  },
  {
   "cell_type": "code",
   "execution_count": 7,
   "id": "3cc699f5-41bf-4b9b-9b59-25f8034c7e3f",
   "metadata": {},
   "outputs": [
    {
     "data": {
      "text/plain": [
       "array([1, 2, 3])"
      ]
     },
     "execution_count": 7,
     "metadata": {},
     "output_type": "execute_result"
    }
   ],
   "source": [
    "array_b[0]"
   ]
  },
  {
   "cell_type": "code",
   "execution_count": 8,
   "id": "9276de4f-151d-42b6-a617-26528358644a",
   "metadata": {},
   "outputs": [
    {
     "name": "stdout",
     "output_type": "stream",
     "text": [
      "2\n"
     ]
    }
   ],
   "source": [
    "print(array_b[0][1])"
   ]
  },
  {
   "cell_type": "code",
   "execution_count": 9,
   "id": "60c7bdc4-7b1c-4e6c-bff0-28b576c47dc9",
   "metadata": {},
   "outputs": [
    {
     "name": "stdout",
     "output_type": "stream",
     "text": [
      "2\n"
     ]
    }
   ],
   "source": [
    "print(array_b[0,1])"
   ]
  },
  {
   "cell_type": "code",
   "execution_count": 10,
   "id": "3061c2bc-8542-4548-a095-e06b611253ad",
   "metadata": {},
   "outputs": [
    {
     "data": {
      "text/plain": [
       "array([[1, 2, 3],\n",
       "       [4, 5, 6]])"
      ]
     },
     "execution_count": 10,
     "metadata": {},
     "output_type": "execute_result"
    }
   ],
   "source": [
    "array_b"
   ]
  },
  {
   "cell_type": "code",
   "execution_count": 11,
   "id": "5d5e92d1-ac23-43e2-a428-1d785e4b687d",
   "metadata": {},
   "outputs": [],
   "source": [
    "array_b[0,1] = 5"
   ]
  },
  {
   "cell_type": "code",
   "execution_count": 12,
   "id": "33c4c247-6dbb-4c85-9d03-6b9d49f37e1d",
   "metadata": {},
   "outputs": [
    {
     "data": {
      "text/plain": [
       "array([[1, 5, 3],\n",
       "       [4, 5, 6]])"
      ]
     },
     "execution_count": 12,
     "metadata": {},
     "output_type": "execute_result"
    }
   ],
   "source": [
    "array_b"
   ]
  },
  {
   "cell_type": "code",
   "execution_count": 13,
   "id": "342fdd11-17d4-4914-8b24-c15f01d7b5da",
   "metadata": {},
   "outputs": [],
   "source": [
    "array_b[:, 0] = 2"
   ]
  },
  {
   "cell_type": "code",
   "execution_count": 14,
   "id": "7a4c1c24-39b4-43cf-b6f7-cc30d37d4d8d",
   "metadata": {},
   "outputs": [
    {
     "data": {
      "text/plain": [
       "array([[2, 5, 3],\n",
       "       [2, 5, 6]])"
      ]
     },
     "execution_count": 14,
     "metadata": {},
     "output_type": "execute_result"
    }
   ],
   "source": [
    "array_b"
   ]
  },
  {
   "cell_type": "code",
   "execution_count": 15,
   "id": "177de976-fbb0-4be4-8791-a056b60c0451",
   "metadata": {},
   "outputs": [],
   "source": [
    "a = [1,2,4]\n",
    "\n",
    "array_b[0] = a"
   ]
  },
  {
   "cell_type": "code",
   "execution_count": 16,
   "id": "eddecfaf-f32f-4866-aba2-d262aba299fc",
   "metadata": {},
   "outputs": [
    {
     "data": {
      "text/plain": [
       "array([[1, 2, 4],\n",
       "       [2, 5, 6]])"
      ]
     },
     "execution_count": 16,
     "metadata": {},
     "output_type": "execute_result"
    }
   ],
   "source": [
    "array_b"
   ]
  },
  {
   "cell_type": "code",
   "execution_count": 17,
   "id": "726298da-0b44-4caa-b991-000d8f26b60f",
   "metadata": {},
   "outputs": [],
   "source": [
    "array_b[:] = 9"
   ]
  },
  {
   "cell_type": "code",
   "execution_count": 18,
   "id": "5bf7fd39-93e7-4596-8f34-4e3d9d1fd816",
   "metadata": {},
   "outputs": [
    {
     "data": {
      "text/plain": [
       "array([[9, 9, 9],\n",
       "       [9, 9, 9]])"
      ]
     },
     "execution_count": 18,
     "metadata": {},
     "output_type": "execute_result"
    }
   ],
   "source": [
    "array_b"
   ]
  },
  {
   "cell_type": "code",
   "execution_count": 19,
   "id": "9b666a59-1c0f-43a8-a7cc-90161af41f92",
   "metadata": {},
   "outputs": [],
   "source": [
    "ar_c = np.array([[1,2,3], [4,5,6]], dtype=\"float32\")"
   ]
  },
  {
   "cell_type": "code",
   "execution_count": 20,
   "id": "b4bcade2-9486-4bf7-9f3f-81077e47e800",
   "metadata": {},
   "outputs": [
    {
     "data": {
      "text/plain": [
       "array([[1., 2., 3.],\n",
       "       [4., 5., 6.]], dtype=float32)"
      ]
     },
     "execution_count": 20,
     "metadata": {},
     "output_type": "execute_result"
    }
   ],
   "source": [
    "ar_c"
   ]
  },
  {
   "cell_type": "code",
   "execution_count": 21,
   "id": "573bddaa-8de9-48bb-9ad0-2d559f59ba1d",
   "metadata": {},
   "outputs": [],
   "source": [
    "ar_d = np.array([[1,2,3], [4,5,6]], dtype= np.float32)"
   ]
  },
  {
   "cell_type": "code",
   "execution_count": 22,
   "id": "07459327-65cc-4564-a4bb-8af64cb3ad3f",
   "metadata": {},
   "outputs": [
    {
     "data": {
      "text/plain": [
       "array([[1., 2., 3.],\n",
       "       [4., 5., 6.]], dtype=float32)"
      ]
     },
     "execution_count": 22,
     "metadata": {},
     "output_type": "execute_result"
    }
   ],
   "source": [
    "ar_d"
   ]
  },
  {
   "cell_type": "code",
   "execution_count": 23,
   "id": "df1f4a4e-8530-4b50-97c2-3efc3f9d4174",
   "metadata": {},
   "outputs": [],
   "source": [
    "ar_e = np.array([[1,2,3], [4,5,6]], dtype=\"str\")"
   ]
  },
  {
   "cell_type": "code",
   "execution_count": 24,
   "id": "f7dcccdf-fe5a-40e2-97b8-e17a4f40eb5c",
   "metadata": {},
   "outputs": [
    {
     "data": {
      "text/plain": [
       "array([['1', '2', '3'],\n",
       "       ['4', '5', '6']], dtype='<U1')"
      ]
     },
     "execution_count": 24,
     "metadata": {},
     "output_type": "execute_result"
    }
   ],
   "source": [
    "ar_e"
   ]
  },
  {
   "cell_type": "code",
   "execution_count": 25,
   "id": "1239756f-a0ff-4e7b-a548-d69d658324df",
   "metadata": {},
   "outputs": [],
   "source": [
    "ar_f = np.array([[1],[2]])"
   ]
  },
  {
   "cell_type": "code",
   "execution_count": 26,
   "id": "99be6a96-b13f-4907-8961-f83cf86d1105",
   "metadata": {},
   "outputs": [],
   "source": [
    "ar_g = np.array([1,2,3])"
   ]
  },
  {
   "cell_type": "code",
   "execution_count": 27,
   "id": "14ed9cdf-eb99-4d9f-ae14-87198f15542c",
   "metadata": {},
   "outputs": [],
   "source": [
    "ar = np.add(ar_g, ar_d)"
   ]
  },
  {
   "cell_type": "code",
   "execution_count": 28,
   "id": "f5c024de-8413-4e23-aacb-f72b0ad9f8ce",
   "metadata": {},
   "outputs": [
    {
     "data": {
      "text/plain": [
       "array([[2., 4., 6.],\n",
       "       [5., 7., 9.]])"
      ]
     },
     "execution_count": 28,
     "metadata": {},
     "output_type": "execute_result"
    }
   ],
   "source": [
    "ar"
   ]
  },
  {
   "cell_type": "code",
   "execution_count": 29,
   "id": "5e19400d-861b-4c00-b8e9-7874ea546a7f",
   "metadata": {},
   "outputs": [],
   "source": [
    "ar = np.add(ar_f, ar_d, dtype = np.int32, casting='unsafe')"
   ]
  },
  {
   "cell_type": "code",
   "execution_count": 30,
   "id": "3e75ee37-9027-497c-8496-89051c535014",
   "metadata": {},
   "outputs": [
    {
     "data": {
      "text/plain": [
       "array([[2, 3, 4],\n",
       "       [6, 7, 8]], dtype=int32)"
      ]
     },
     "execution_count": 30,
     "metadata": {},
     "output_type": "execute_result"
    }
   ],
   "source": [
    "ar"
   ]
  },
  {
   "cell_type": "code",
   "execution_count": 31,
   "id": "e258fd58-82da-46c1-be5e-4a5495655aa7",
   "metadata": {},
   "outputs": [],
   "source": [
    "mean = np.mean(ar, axis=0)"
   ]
  },
  {
   "cell_type": "code",
   "execution_count": 32,
   "id": "5ceb8c3d-9bfa-4984-9aa3-9a87c0a1375a",
   "metadata": {},
   "outputs": [
    {
     "data": {
      "text/plain": [
       "array([4., 5., 6.])"
      ]
     },
     "execution_count": 32,
     "metadata": {},
     "output_type": "execute_result"
    }
   ],
   "source": [
    "mean"
   ]
  },
  {
   "cell_type": "code",
   "execution_count": 33,
   "id": "935c64ad-b8c3-45d3-869f-818806b5730f",
   "metadata": {},
   "outputs": [],
   "source": [
    "ar = np.array([[1,2,3], [4,5,6]])"
   ]
  },
  {
   "cell_type": "code",
   "execution_count": 34,
   "id": "3bb2be31-3e57-4baa-82c9-4f04c0eee438",
   "metadata": {},
   "outputs": [
    {
     "data": {
      "text/plain": [
       "array([[1, 2, 3],\n",
       "       [4, 5, 6]])"
      ]
     },
     "execution_count": 34,
     "metadata": {},
     "output_type": "execute_result"
    }
   ],
   "source": [
    "ar"
   ]
  },
  {
   "cell_type": "code",
   "execution_count": 35,
   "id": "39d8b51d-e73b-44db-a2b8-faaa0d68ca85",
   "metadata": {},
   "outputs": [],
   "source": [
    "br = ar[:1]"
   ]
  },
  {
   "cell_type": "code",
   "execution_count": 36,
   "id": "e11570e5-6faf-449a-97be-249343315c74",
   "metadata": {},
   "outputs": [
    {
     "data": {
      "text/plain": [
       "array([[1, 2, 3]])"
      ]
     },
     "execution_count": 36,
     "metadata": {},
     "output_type": "execute_result"
    }
   ],
   "source": [
    "br"
   ]
  },
  {
   "cell_type": "code",
   "execution_count": 37,
   "id": "68a1176d-85cd-402f-8f56-939bba99d290",
   "metadata": {},
   "outputs": [],
   "source": [
    "cr = ar[1:]"
   ]
  },
  {
   "cell_type": "code",
   "execution_count": 38,
   "id": "2acb147a-4677-46a3-9608-484fb8c3bd1b",
   "metadata": {},
   "outputs": [
    {
     "data": {
      "text/plain": [
       "array([[4, 5, 6]])"
      ]
     },
     "execution_count": 38,
     "metadata": {},
     "output_type": "execute_result"
    }
   ],
   "source": [
    "cr"
   ]
  },
  {
   "cell_type": "code",
   "execution_count": 39,
   "id": "e284125a-1d8e-48c2-86c2-5b0cba5fca9b",
   "metadata": {},
   "outputs": [],
   "source": [
    "ar = ar = np.array([[1,2,3,4,5,6], [4,5,6,6,7,8], [5,5,6,7,8,9]])"
   ]
  },
  {
   "cell_type": "code",
   "execution_count": 40,
   "id": "0c86fef4-7982-4533-b184-734bb29963bb",
   "metadata": {},
   "outputs": [
    {
     "data": {
      "text/plain": [
       "array([[1, 2, 3, 4, 5, 6],\n",
       "       [4, 5, 6, 6, 7, 8],\n",
       "       [5, 5, 6, 7, 8, 9]])"
      ]
     },
     "execution_count": 40,
     "metadata": {},
     "output_type": "execute_result"
    }
   ],
   "source": [
    "ar"
   ]
  },
  {
   "cell_type": "code",
   "execution_count": 41,
   "id": "9cb118ed-24d0-477d-b1f6-7ff3c2ac6e49",
   "metadata": {},
   "outputs": [
    {
     "data": {
      "text/plain": [
       "array([5, 6, 6, 7, 8])"
      ]
     },
     "execution_count": 41,
     "metadata": {},
     "output_type": "execute_result"
    }
   ],
   "source": [
    "ar[1, 1:]"
   ]
  },
  {
   "cell_type": "code",
   "execution_count": 42,
   "id": "2ba4f700-ee97-46e5-aaa0-2dc0abe73507",
   "metadata": {},
   "outputs": [
    {
     "data": {
      "text/plain": [
       "array([[2, 4, 6],\n",
       "       [5, 6, 8],\n",
       "       [5, 7, 9]])"
      ]
     },
     "execution_count": 42,
     "metadata": {},
     "output_type": "execute_result"
    }
   ],
   "source": [
    "ar[:, 1:7:2]"
   ]
  },
  {
   "cell_type": "code",
   "execution_count": null,
   "id": "438742c8-5f2b-4e4b-b140-8613eb894c12",
   "metadata": {},
   "outputs": [],
   "source": [
    "initializing array"
   ]
  },
  {
   "cell_type": "code",
   "execution_count": 46,
   "id": "c068aba9-b12b-4444-8fbc-a007bbf2311d",
   "metadata": {},
   "outputs": [],
   "source": [
    "ar0 = np.zeros((2,2))"
   ]
  },
  {
   "cell_type": "raw",
   "id": "ca72243b-0d9d-48fb-bb02-9d5462fb5b78",
   "metadata": {},
   "source": [
    "print(ar0)"
   ]
  },
  {
   "cell_type": "code",
   "execution_count": 47,
   "id": "0944dc2f-c471-4fe6-b8af-9686c24fd832",
   "metadata": {},
   "outputs": [
    {
     "data": {
      "text/plain": [
       "array([[1, 2, 3, 4, 5, 6],\n",
       "       [4, 5, 6, 6, 7, 8],\n",
       "       [5, 5, 6, 7, 8, 9]])"
      ]
     },
     "execution_count": 47,
     "metadata": {},
     "output_type": "execute_result"
    }
   ],
   "source": [
    "ar"
   ]
  },
  {
   "cell_type": "code",
   "execution_count": 48,
   "id": "c8520763-7a3b-46e8-b0bf-72b979ceaa61",
   "metadata": {},
   "outputs": [
    {
     "data": {
      "text/plain": [
       "array([[0., 0.],\n",
       "       [0., 0.]])"
      ]
     },
     "execution_count": 48,
     "metadata": {},
     "output_type": "execute_result"
    }
   ],
   "source": [
    "ar0"
   ]
  },
  {
   "cell_type": "code",
   "execution_count": 49,
   "id": "5c812d3e-d213-4d7d-b48b-478fa1aba479",
   "metadata": {},
   "outputs": [],
   "source": [
    "ar1 = np.ones((2,2))"
   ]
  },
  {
   "cell_type": "code",
   "execution_count": 50,
   "id": "a89dfa46-d35e-47d3-87aa-7e24cf07315d",
   "metadata": {},
   "outputs": [
    {
     "data": {
      "text/plain": [
       "array([[1., 1.],\n",
       "       [1., 1.]])"
      ]
     },
     "execution_count": 50,
     "metadata": {},
     "output_type": "execute_result"
    }
   ],
   "source": [
    "ar1"
   ]
  },
  {
   "cell_type": "code",
   "execution_count": 51,
   "id": "48c4421e-33e7-48f4-aecc-ebfa0ab721b8",
   "metadata": {},
   "outputs": [],
   "source": [
    "ar5 = np.full((2,2),5)"
   ]
  },
  {
   "cell_type": "code",
   "execution_count": 52,
   "id": "cedd05c5-d3a2-4a83-9b95-2f88604dd945",
   "metadata": {},
   "outputs": [
    {
     "data": {
      "text/plain": [
       "array([[5, 5],\n",
       "       [5, 5]])"
      ]
     },
     "execution_count": 52,
     "metadata": {},
     "output_type": "execute_result"
    }
   ],
   "source": [
    "ar5"
   ]
  },
  {
   "cell_type": "code",
   "execution_count": 53,
   "id": "75dc5b10-e988-4737-b821-deb9c6c74e3c",
   "metadata": {},
   "outputs": [],
   "source": [
    "ar6 = np.full_like(ar5, 6)"
   ]
  },
  {
   "cell_type": "code",
   "execution_count": 54,
   "id": "b9aeca8d-5fe3-4d86-882c-a1afed1bdd69",
   "metadata": {},
   "outputs": [
    {
     "data": {
      "text/plain": [
       "array([[6, 6],\n",
       "       [6, 6]])"
      ]
     },
     "execution_count": 54,
     "metadata": {},
     "output_type": "execute_result"
    }
   ],
   "source": [
    "ar6"
   ]
  },
  {
   "cell_type": "code",
   "execution_count": 55,
   "id": "002f6fb4-2201-4262-8007-135ed6da6f2f",
   "metadata": {},
   "outputs": [],
   "source": [
    "ar7 = np.random.rand(2,3)"
   ]
  },
  {
   "cell_type": "code",
   "execution_count": 56,
   "id": "56e2b581-3804-4f81-92e0-65474b1d6744",
   "metadata": {},
   "outputs": [
    {
     "data": {
      "text/plain": [
       "array([[0.95219712, 0.41180848, 0.05981395],\n",
       "       [0.20250118, 0.545571  , 0.76957958]])"
      ]
     },
     "execution_count": 56,
     "metadata": {},
     "output_type": "execute_result"
    }
   ],
   "source": [
    "ar7"
   ]
  },
  {
   "cell_type": "code",
   "execution_count": 64,
   "id": "c391950a-90d0-499a-902d-a9dd881e6dea",
   "metadata": {},
   "outputs": [],
   "source": [
    "ar8 = np.random.randint(-5,8, size=(2,3), dtype=np.int64)"
   ]
  },
  {
   "cell_type": "code",
   "execution_count": 66,
   "id": "472ee88d-2fae-48e3-bc2a-1f59543adfe9",
   "metadata": {},
   "outputs": [
    {
     "data": {
      "text/plain": [
       "array([[ 6,  4,  4],\n",
       "       [-2, -3,  1]])"
      ]
     },
     "execution_count": 66,
     "metadata": {},
     "output_type": "execute_result"
    }
   ],
   "source": [
    "ar8"
   ]
  },
  {
   "cell_type": "code",
   "execution_count": 67,
   "id": "030ce4b0-1b51-41a8-bdff-789d75ad897f",
   "metadata": {},
   "outputs": [],
   "source": [
    "ar1 = np.ones((5,5))"
   ]
  },
  {
   "cell_type": "code",
   "execution_count": 68,
   "id": "44885056-d7b0-42ae-9c21-f2b056cad58b",
   "metadata": {},
   "outputs": [
    {
     "data": {
      "text/plain": [
       "array([[1., 1., 1., 1., 1.],\n",
       "       [1., 1., 1., 1., 1.],\n",
       "       [1., 1., 1., 1., 1.],\n",
       "       [1., 1., 1., 1., 1.],\n",
       "       [1., 1., 1., 1., 1.]])"
      ]
     },
     "execution_count": 68,
     "metadata": {},
     "output_type": "execute_result"
    }
   ],
   "source": [
    "ar1"
   ]
  },
  {
   "cell_type": "code",
   "execution_count": 69,
   "id": "240cc1a2-ddac-49ac-94f9-70548d5018d6",
   "metadata": {},
   "outputs": [],
   "source": [
    "ar0 = np.zeros((3,3))"
   ]
  },
  {
   "cell_type": "code",
   "execution_count": 70,
   "id": "c333f079-dad6-4cbe-943d-707ce664bcd3",
   "metadata": {},
   "outputs": [
    {
     "data": {
      "text/plain": [
       "array([[0., 0., 0.],\n",
       "       [0., 0., 0.],\n",
       "       [0., 0., 0.]])"
      ]
     },
     "execution_count": 70,
     "metadata": {},
     "output_type": "execute_result"
    }
   ],
   "source": [
    "ar0"
   ]
  },
  {
   "cell_type": "code",
   "execution_count": 72,
   "id": "0c01d7f8-22bd-469b-bb30-dee12f9482d9",
   "metadata": {},
   "outputs": [],
   "source": [
    "ar0[1,1] = 9"
   ]
  },
  {
   "cell_type": "code",
   "execution_count": 73,
   "id": "2e53f82f-77e4-4d7e-9a12-94e3ab09c83a",
   "metadata": {},
   "outputs": [
    {
     "data": {
      "text/plain": [
       "array([[0., 0., 0.],\n",
       "       [0., 9., 0.],\n",
       "       [0., 0., 0.]])"
      ]
     },
     "execution_count": 73,
     "metadata": {},
     "output_type": "execute_result"
    }
   ],
   "source": [
    "ar0"
   ]
  },
  {
   "cell_type": "code",
   "execution_count": 74,
   "id": "a6f0c494-df35-4d40-8271-59ebc5a53a54",
   "metadata": {},
   "outputs": [],
   "source": [
    "ar1[1:-1, 1:-1] = ar0"
   ]
  },
  {
   "cell_type": "code",
   "execution_count": 75,
   "id": "a23217e6-c335-474b-b58f-851164fd9916",
   "metadata": {},
   "outputs": [
    {
     "data": {
      "text/plain": [
       "array([[1., 1., 1., 1., 1.],\n",
       "       [1., 0., 0., 0., 1.],\n",
       "       [1., 0., 9., 0., 1.],\n",
       "       [1., 0., 0., 0., 1.],\n",
       "       [1., 1., 1., 1., 1.]])"
      ]
     },
     "execution_count": 75,
     "metadata": {},
     "output_type": "execute_result"
    }
   ],
   "source": [
    "ar1"
   ]
  },
  {
   "cell_type": "markdown",
   "id": "a13e1b6b-89f3-4217-a961-706db00c2775",
   "metadata": {},
   "source": [
    "## Mathematics "
   ]
  },
  {
   "cell_type": "code",
   "execution_count": 76,
   "id": "9f088f92-4dfc-489c-b68c-6ff7a11c7d88",
   "metadata": {},
   "outputs": [],
   "source": [
    "a = np.array([1,2,3,4])"
   ]
  },
  {
   "cell_type": "code",
   "execution_count": 77,
   "id": "1e9527a4-7cc6-4304-9dc7-4f25682735d7",
   "metadata": {},
   "outputs": [
    {
     "data": {
      "text/plain": [
       "array([3, 4, 5, 6])"
      ]
     },
     "execution_count": 77,
     "metadata": {},
     "output_type": "execute_result"
    }
   ],
   "source": [
    "a + 2"
   ]
  },
  {
   "cell_type": "code",
   "execution_count": 78,
   "id": "7af44b9e-a9ab-4021-9532-fa66d877b4f3",
   "metadata": {},
   "outputs": [
    {
     "data": {
      "text/plain": [
       "array([-1,  0,  1,  2])"
      ]
     },
     "execution_count": 78,
     "metadata": {},
     "output_type": "execute_result"
    }
   ],
   "source": [
    "a - 2"
   ]
  },
  {
   "cell_type": "code",
   "execution_count": 79,
   "id": "47db903a-029a-4dd6-807f-896e3e532e71",
   "metadata": {},
   "outputs": [
    {
     "data": {
      "text/plain": [
       "array([2, 4, 6, 8])"
      ]
     },
     "execution_count": 79,
     "metadata": {},
     "output_type": "execute_result"
    }
   ],
   "source": [
    "a * 2"
   ]
  },
  {
   "cell_type": "code",
   "execution_count": 80,
   "id": "438e7e2f-4066-49cf-9d51-28e0acb92b3c",
   "metadata": {},
   "outputs": [
    {
     "data": {
      "text/plain": [
       "array([0.5, 1. , 1.5, 2. ])"
      ]
     },
     "execution_count": 80,
     "metadata": {},
     "output_type": "execute_result"
    }
   ],
   "source": [
    "a / 2"
   ]
  },
  {
   "cell_type": "code",
   "execution_count": 81,
   "id": "6523e89c-eaa6-4e13-acab-3c7a93b4c8d2",
   "metadata": {},
   "outputs": [],
   "source": [
    "b = np.array([5,6,7,8])"
   ]
  },
  {
   "cell_type": "code",
   "execution_count": 82,
   "id": "e64e657c-8ad9-4b67-aebb-887689363768",
   "metadata": {},
   "outputs": [
    {
     "data": {
      "text/plain": [
       "array([ 6,  8, 10, 12])"
      ]
     },
     "execution_count": 82,
     "metadata": {},
     "output_type": "execute_result"
    }
   ],
   "source": [
    "a + b "
   ]
  },
  {
   "cell_type": "code",
   "execution_count": 84,
   "id": "ac5222d2-24d5-4942-825b-9a6bca72e049",
   "metadata": {},
   "outputs": [],
   "source": [
    "a = np.array([\n",
    "    [1,2,3],\n",
    "    [1,2,3]]\n",
    ")"
   ]
  },
  {
   "cell_type": "code",
   "execution_count": 85,
   "id": "1fa6d621-4e7e-41a7-b427-ee0182d34167",
   "metadata": {},
   "outputs": [
    {
     "data": {
      "text/plain": [
       "array([[1, 2, 3],\n",
       "       [1, 2, 3]])"
      ]
     },
     "execution_count": 85,
     "metadata": {},
     "output_type": "execute_result"
    }
   ],
   "source": [
    "a"
   ]
  },
  {
   "cell_type": "code",
   "execution_count": 90,
   "id": "080a72c2-0a22-4141-a8ac-fcf350cdae3d",
   "metadata": {},
   "outputs": [],
   "source": [
    "b = np.array([\n",
    "    [4,5],\n",
    "    [4,6],\n",
    "    [4,5]\n",
    "])"
   ]
  },
  {
   "cell_type": "code",
   "execution_count": 91,
   "id": "d3890c77-a4c9-4285-8260-85bd9c6b0ba3",
   "metadata": {},
   "outputs": [
    {
     "data": {
      "text/plain": [
       "array([[4, 5],\n",
       "       [4, 6],\n",
       "       [4, 5]])"
      ]
     },
     "execution_count": 91,
     "metadata": {},
     "output_type": "execute_result"
    }
   ],
   "source": [
    "b"
   ]
  },
  {
   "cell_type": "code",
   "execution_count": 93,
   "id": "2c7b332b-6e9a-414d-a954-0d0d4603078a",
   "metadata": {},
   "outputs": [
    {
     "data": {
      "text/plain": [
       "array([[24, 32],\n",
       "       [24, 32]])"
      ]
     },
     "execution_count": 93,
     "metadata": {},
     "output_type": "execute_result"
    }
   ],
   "source": [
    "np.matmul(a,b)"
   ]
  },
  {
   "cell_type": "code",
   "execution_count": 94,
   "id": "46fd9918-e61c-47b0-80f2-6fe74272afbe",
   "metadata": {},
   "outputs": [
    {
     "data": {
      "text/plain": [
       "array([[24, 32],\n",
       "       [24, 32]])"
      ]
     },
     "execution_count": 94,
     "metadata": {},
     "output_type": "execute_result"
    }
   ],
   "source": [
    "np.dot(a,b)"
   ]
  },
  {
   "cell_type": "code",
   "execution_count": 95,
   "id": "6a8e8c9b-cbaf-4bef-a72e-ea84b651560e",
   "metadata": {},
   "outputs": [
    {
     "data": {
      "text/plain": [
       "array([[24, 32],\n",
       "       [24, 32]])"
      ]
     },
     "execution_count": 95,
     "metadata": {},
     "output_type": "execute_result"
    }
   ],
   "source": [
    "a.dot(b)"
   ]
  },
  {
   "cell_type": "markdown",
   "id": "9c04d375-24af-43da-9d43-3debb8a0ba87",
   "metadata": {},
   "source": [
    "### Reading txt file"
   ]
  },
  {
   "cell_type": "code",
   "execution_count": 5,
   "id": "89301144-4852-4c43-9f08-c7b564700720",
   "metadata": {},
   "outputs": [],
   "source": [
    "import numpy as np\n",
    "data = np.genfromtxt(\"data.txt\", delimiter=\",\", dtype=np.int32)"
   ]
  },
  {
   "cell_type": "code",
   "execution_count": 6,
   "id": "0dbf1411-9207-4faa-8053-514d2d891b84",
   "metadata": {},
   "outputs": [
    {
     "data": {
      "text/plain": [
       "array([[1, 2, 3, 4, 5, 6, 7, 8, 9],\n",
       "       [1, 2, 3, 4, 5, 6, 7, 8, 9],\n",
       "       [1, 2, 3, 4, 5, 6, 7, 8, 9],\n",
       "       [1, 2, 3, 4, 5, 6, 7, 8, 9],\n",
       "       [1, 2, 3, 4, 5, 6, 7, 8, 9],\n",
       "       [1, 2, 3, 4, 5, 6, 7, 8, 9]], dtype=int32)"
      ]
     },
     "execution_count": 6,
     "metadata": {},
     "output_type": "execute_result"
    }
   ],
   "source": [
    "data"
   ]
  },
  {
   "cell_type": "code",
   "execution_count": 10,
   "id": "a2b7cdca-dac6-42da-8fde-7ea14865e761",
   "metadata": {},
   "outputs": [],
   "source": [
    "data1 = np.loadtxt(\"data.txt\", delimiter=',', dtype=np.int32)"
   ]
  },
  {
   "cell_type": "code",
   "execution_count": 11,
   "id": "64abc2ca-73cd-47d5-9d70-08485858f40c",
   "metadata": {},
   "outputs": [
    {
     "data": {
      "text/plain": [
       "array([[1, 2, 3, 4, 5, 6, 7, 8, 9],\n",
       "       [1, 2, 3, 4, 5, 6, 7, 8, 9],\n",
       "       [1, 2, 3, 4, 5, 6, 7, 8, 9],\n",
       "       [1, 2, 3, 4, 5, 6, 7, 8, 9],\n",
       "       [1, 2, 3, 4, 5, 6, 7, 8, 9],\n",
       "       [1, 2, 3, 4, 5, 6, 7, 8, 9]], dtype=int32)"
      ]
     },
     "execution_count": 11,
     "metadata": {},
     "output_type": "execute_result"
    }
   ],
   "source": [
    "data1"
   ]
  },
  {
   "cell_type": "code",
   "execution_count": 13,
   "id": "c3930ab9-fe5d-438f-bba3-1e4fd32baa12",
   "metadata": {},
   "outputs": [
    {
     "data": {
      "text/plain": [
       "array([[1, 2, 3, 4, 5, 6, 7, 8, 9, 1, 2, 3, 4, 5, 6, 7, 8, 9, 1, 2, 3, 4,\n",
       "        5, 6, 7, 8, 9, 1, 2, 3, 4, 5, 6, 7, 8, 9, 1, 2, 3, 4, 5, 6, 7, 8,\n",
       "        9, 1, 2, 3, 4, 5, 6, 7, 8, 9]], dtype=int32)"
      ]
     },
     "execution_count": 13,
     "metadata": {},
     "output_type": "execute_result"
    }
   ],
   "source": [
    "data1.reshape(1,54)"
   ]
  },
  {
   "cell_type": "code",
   "execution_count": 15,
   "id": "7e7a472e-eb0d-4c7a-9db0-bbc719dde110",
   "metadata": {},
   "outputs": [
    {
     "data": {
      "text/plain": [
       "array([[1, 2, 3, 4, 5, 6, 7, 8, 9, 1, 2, 3, 4, 5, 6, 7, 8, 9, 1, 2, 3, 4,\n",
       "        5, 6, 7, 8, 9],\n",
       "       [1, 2, 3, 4, 5, 6, 7, 8, 9, 1, 2, 3, 4, 5, 6, 7, 8, 9, 1, 2, 3, 4,\n",
       "        5, 6, 7, 8, 9]], dtype=int32)"
      ]
     },
     "execution_count": 15,
     "metadata": {},
     "output_type": "execute_result"
    }
   ],
   "source": [
    "data1.reshape(2,27)"
   ]
  },
  {
   "cell_type": "markdown",
   "id": "1788ae6d-0056-4138-9206-0c77ece4831a",
   "metadata": {},
   "source": [
    "### Concatenation of array"
   ]
  },
  {
   "cell_type": "code",
   "execution_count": 20,
   "id": "158f556c-552f-4fd5-9c0c-c5d8603a80ae",
   "metadata": {},
   "outputs": [],
   "source": [
    "a = np.array([[1,2,3]])\n",
    "b = np.array([[4,5,6]])"
   ]
  },
  {
   "cell_type": "code",
   "execution_count": 22,
   "id": "eba890b6-61e8-46b0-acc0-235b4bf4c279",
   "metadata": {},
   "outputs": [
    {
     "data": {
      "text/plain": [
       "array([[1, 2, 3],\n",
       "       [4, 5, 6]])"
      ]
     },
     "execution_count": 22,
     "metadata": {},
     "output_type": "execute_result"
    }
   ],
   "source": [
    "c = np.concatenate((a,b), axis=0)\n",
    "c"
   ]
  },
  {
   "cell_type": "code",
   "execution_count": 23,
   "id": "d113a1d3-252c-4094-9b15-b9dd161edeba",
   "metadata": {},
   "outputs": [],
   "source": [
    "a = np.array([[1,2,3],[4,5,6]])\n",
    "b = np.array([[4,5,6], [1,2,3]])"
   ]
  },
  {
   "cell_type": "code",
   "execution_count": 26,
   "id": "e8179d7f-b9bb-4f3f-a12c-fe7d045f1e91",
   "metadata": {},
   "outputs": [
    {
     "data": {
      "text/plain": [
       "array([[1, 2, 3, 4, 5, 6],\n",
       "       [4, 5, 6, 1, 2, 3]])"
      ]
     },
     "execution_count": 26,
     "metadata": {},
     "output_type": "execute_result"
    }
   ],
   "source": [
    "c = np.concatenate((a,b), axis=1)\n",
    "c"
   ]
  },
  {
   "cell_type": "code",
   "execution_count": 27,
   "id": "f19e2b64-dfbe-426f-9a60-8805676a5eb7",
   "metadata": {},
   "outputs": [
    {
     "data": {
      "text/plain": [
       "array([[1, 2, 3],\n",
       "       [4, 5, 6],\n",
       "       [4, 5, 6],\n",
       "       [1, 2, 3]])"
      ]
     },
     "execution_count": 27,
     "metadata": {},
     "output_type": "execute_result"
    }
   ],
   "source": [
    "c = np.concatenate((a,b), axis=0)\n",
    "c"
   ]
  },
  {
   "cell_type": "code",
   "execution_count": 28,
   "id": "7d6d9aa8-a31a-4530-8c41-f8785ca3d736",
   "metadata": {},
   "outputs": [
    {
     "data": {
      "text/plain": [
       "array([1, 2, 3, 4, 5, 6, 4, 5, 6, 1, 2, 3])"
      ]
     },
     "execution_count": 28,
     "metadata": {},
     "output_type": "execute_result"
    }
   ],
   "source": [
    "c = np.concatenate((a,b), axis=None)\n",
    "c"
   ]
  },
  {
   "cell_type": "code",
   "execution_count": null,
   "id": "e452716b-e8b3-426c-91b2-8ce54adb3dbc",
   "metadata": {},
   "outputs": [],
   "source": []
  }
 ],
 "metadata": {
  "kernelspec": {
   "display_name": "Python 3 (ipykernel)",
   "language": "python",
   "name": "python3"
  },
  "language_info": {
   "codemirror_mode": {
    "name": "ipython",
    "version": 3
   },
   "file_extension": ".py",
   "mimetype": "text/x-python",
   "name": "python",
   "nbconvert_exporter": "python",
   "pygments_lexer": "ipython3",
   "version": "3.12.4"
  }
 },
 "nbformat": 4,
 "nbformat_minor": 5
}
