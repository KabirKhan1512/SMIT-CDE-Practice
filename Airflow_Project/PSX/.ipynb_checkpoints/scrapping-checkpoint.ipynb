{
 "cells": [
  {
   "cell_type": "code",
   "execution_count": 79,
   "id": "333a9123-5c72-4881-a9d8-ee6c853ea807",
   "metadata": {},
   "outputs": [],
   "source": [
    "from bs4 import BeautifulSoup\n",
    "import requests\n",
    "import pandas as pd\n",
    "import datetime "
   ]
  },
  {
   "cell_type": "code",
   "execution_count": 2,
   "id": "83009234-c629-447c-b730-0c323ad660a1",
   "metadata": {},
   "outputs": [],
   "source": [
    "url = 'https://www.psx.com.pk/market-summary/#main'"
   ]
  },
  {
   "cell_type": "code",
   "execution_count": 4,
   "id": "4d825c72-c585-4aaa-b031-efe307225609",
   "metadata": {},
   "outputs": [],
   "source": [
    "response = requests.get(url)"
   ]
  },
  {
   "cell_type": "code",
   "execution_count": 5,
   "id": "25e23528-4eca-409c-b0ea-29d3752963c2",
   "metadata": {},
   "outputs": [],
   "source": [
    "soup = BeautifulSoup(response.content, 'html.parser')"
   ]
  },
  {
   "cell_type": "code",
   "execution_count": 48,
   "id": "b026531e-c1a3-459e-881e-d99d4da16e78",
   "metadata": {},
   "outputs": [],
   "source": [
    "container = soup.find('div', class_='col-sm-12 tab-pane inner-content-table automobile-div active')\n"
   ]
  },
  {
   "cell_type": "code",
   "execution_count": 30,
   "id": "6773126b-e8ce-4773-9047-979436b87ee8",
   "metadata": {},
   "outputs": [],
   "source": [
    "rows = container.find_all('tr', class_='red-text-td')"
   ]
  },
  {
   "cell_type": "code",
   "execution_count": 88,
   "id": "3992e43b-87df-4060-9b0c-81448e54b615",
   "metadata": {},
   "outputs": [],
   "source": [
    "dictionary = {\n",
    "    'titles':[],\n",
    "    'ldcp': [],\n",
    "    'opens': [],\n",
    "    'high': [],\n",
    "    'low': [],\n",
    "    'current': [],\n",
    "    'change': [],\n",
    "    'volume': [],\n",
    "    'scrap_time':[]\n",
    "}\n",
    "\n",
    "for row in rows:\n",
    "    a = row.find_all('td')\n",
    "    dictionary['titles'].append(a[0].text.strip())\n",
    "    dictionary['ldcp'].append(a[1].text.strip())\n",
    "    dictionary['opens'].append(a[2].text.strip())\n",
    "    dictionary['high'].append(a[3].text.strip())\n",
    "    dictionary['low'].append(a[4].text.strip())\n",
    "    dictionary['current'].append(a[5].text.strip())\n",
    "    dictionary['change'].append(a[6].text.strip())\n",
    "    dictionary['volume'].append(a[7].text.strip())\n",
    "    dictionary['scrap_time'].append(datetime.datetime.now())"
   ]
  },
  {
   "cell_type": "code",
   "execution_count": 89,
   "id": "829a2b86-96da-48ad-9b88-854645d039cc",
   "metadata": {},
   "outputs": [
    {
     "data": {
      "text/html": [
       "<div>\n",
       "<style scoped>\n",
       "    .dataframe tbody tr th:only-of-type {\n",
       "        vertical-align: middle;\n",
       "    }\n",
       "\n",
       "    .dataframe tbody tr th {\n",
       "        vertical-align: top;\n",
       "    }\n",
       "\n",
       "    .dataframe thead th {\n",
       "        text-align: right;\n",
       "    }\n",
       "</style>\n",
       "<table border=\"1\" class=\"dataframe\">\n",
       "  <thead>\n",
       "    <tr style=\"text-align: right;\">\n",
       "      <th></th>\n",
       "      <th>titles</th>\n",
       "      <th>ldcp</th>\n",
       "      <th>opens</th>\n",
       "      <th>high</th>\n",
       "      <th>low</th>\n",
       "      <th>current</th>\n",
       "      <th>change</th>\n",
       "      <th>volume</th>\n",
       "      <th>scrap_time</th>\n",
       "    </tr>\n",
       "  </thead>\n",
       "  <tbody>\n",
       "    <tr>\n",
       "      <th>0</th>\n",
       "      <td>AL-Ghazi Tractors</td>\n",
       "      <td>448.70</td>\n",
       "      <td>445.0</td>\n",
       "      <td>447.96</td>\n",
       "      <td>437.0</td>\n",
       "      <td>438.09</td>\n",
       "      <td>-10.95</td>\n",
       "      <td>10,960</td>\n",
       "      <td>2025-04-29 00:00:26.283945</td>\n",
       "    </tr>\n",
       "    <tr>\n",
       "      <th>1</th>\n",
       "      <td>Atlas Honda Ltd</td>\n",
       "      <td>1,153.68</td>\n",
       "      <td>1160.0</td>\n",
       "      <td>1170.0</td>\n",
       "      <td>1130.0</td>\n",
       "      <td>1142.02</td>\n",
       "      <td>-11.48</td>\n",
       "      <td>8,945</td>\n",
       "      <td>2025-04-29 00:00:26.283945</td>\n",
       "    </tr>\n",
       "    <tr>\n",
       "      <th>2</th>\n",
       "      <td>Dewan Motors</td>\n",
       "      <td>38.54</td>\n",
       "      <td>39.02</td>\n",
       "      <td>39.25</td>\n",
       "      <td>37.45</td>\n",
       "      <td>37.45</td>\n",
       "      <td>-0.67</td>\n",
       "      <td>1,877,947</td>\n",
       "      <td>2025-04-29 00:00:26.283945</td>\n",
       "    </tr>\n",
       "    <tr>\n",
       "      <th>3</th>\n",
       "      <td>Ghandhara Automobile</td>\n",
       "      <td>472.83</td>\n",
       "      <td>473.06</td>\n",
       "      <td>477.87</td>\n",
       "      <td>438.0</td>\n",
       "      <td>442.9</td>\n",
       "      <td>-27.27</td>\n",
       "      <td>764,534</td>\n",
       "      <td>2025-04-29 00:00:26.283945</td>\n",
       "    </tr>\n",
       "    <tr>\n",
       "      <th>4</th>\n",
       "      <td>Ghandhara Ind.</td>\n",
       "      <td>738.00</td>\n",
       "      <td>745.0</td>\n",
       "      <td>747.5</td>\n",
       "      <td>699.0</td>\n",
       "      <td>700.01</td>\n",
       "      <td>-32.53</td>\n",
       "      <td>309,006</td>\n",
       "      <td>2025-04-29 00:00:26.283945</td>\n",
       "    </tr>\n",
       "    <tr>\n",
       "      <th>...</th>\n",
       "      <td>...</td>\n",
       "      <td>...</td>\n",
       "      <td>...</td>\n",
       "      <td>...</td>\n",
       "      <td>...</td>\n",
       "      <td>...</td>\n",
       "      <td>...</td>\n",
       "      <td>...</td>\n",
       "      <td>...</td>\n",
       "    </tr>\n",
       "    <tr>\n",
       "      <th>431</th>\n",
       "      <td>Pak Int.Bulk</td>\n",
       "      <td>9.37</td>\n",
       "      <td>9.44</td>\n",
       "      <td>9.49</td>\n",
       "      <td>8.76</td>\n",
       "      <td>8.85</td>\n",
       "      <td>-0.49</td>\n",
       "      <td>7,786,494</td>\n",
       "      <td>2025-04-29 00:00:26.309172</td>\n",
       "    </tr>\n",
       "    <tr>\n",
       "      <th>432</th>\n",
       "      <td>Pak.Int.Container</td>\n",
       "      <td>43.06</td>\n",
       "      <td>43.0</td>\n",
       "      <td>43.5</td>\n",
       "      <td>42.15</td>\n",
       "      <td>42.77</td>\n",
       "      <td>-0.36</td>\n",
       "      <td>99,764</td>\n",
       "      <td>2025-04-29 00:00:26.309172</td>\n",
       "    </tr>\n",
       "    <tr>\n",
       "      <th>433</th>\n",
       "      <td>Secure Logistics Gro</td>\n",
       "      <td>16.90</td>\n",
       "      <td>17.0</td>\n",
       "      <td>17.9</td>\n",
       "      <td>16.42</td>\n",
       "      <td>16.55</td>\n",
       "      <td>-0.31</td>\n",
       "      <td>6,122,006</td>\n",
       "      <td>2025-04-29 00:00:26.309172</td>\n",
       "    </tr>\n",
       "    <tr>\n",
       "      <th>434</th>\n",
       "      <td>Punjab Oil</td>\n",
       "      <td>149.36</td>\n",
       "      <td>153.0</td>\n",
       "      <td>153.0</td>\n",
       "      <td>143.0</td>\n",
       "      <td>143.3</td>\n",
       "      <td>-1.7</td>\n",
       "      <td>1,371</td>\n",
       "      <td>2025-04-29 00:00:26.309172</td>\n",
       "    </tr>\n",
       "    <tr>\n",
       "      <th>435</th>\n",
       "      <td>Bannu Woollen</td>\n",
       "      <td>31.99</td>\n",
       "      <td>32.0</td>\n",
       "      <td>32.0</td>\n",
       "      <td>30.0</td>\n",
       "      <td>30.35</td>\n",
       "      <td>-1.54</td>\n",
       "      <td>42,293</td>\n",
       "      <td>2025-04-29 00:00:26.309172</td>\n",
       "    </tr>\n",
       "  </tbody>\n",
       "</table>\n",
       "<p>436 rows × 9 columns</p>\n",
       "</div>"
      ],
      "text/plain": [
       "                   titles      ldcp   opens    high     low  current  change  \\\n",
       "0       AL-Ghazi Tractors    448.70   445.0  447.96   437.0   438.09  -10.95   \n",
       "1         Atlas Honda Ltd  1,153.68  1160.0  1170.0  1130.0  1142.02  -11.48   \n",
       "2            Dewan Motors     38.54   39.02   39.25   37.45    37.45   -0.67   \n",
       "3    Ghandhara Automobile    472.83  473.06  477.87   438.0    442.9  -27.27   \n",
       "4          Ghandhara Ind.    738.00   745.0   747.5   699.0   700.01  -32.53   \n",
       "..                    ...       ...     ...     ...     ...      ...     ...   \n",
       "431          Pak Int.Bulk      9.37    9.44    9.49    8.76     8.85   -0.49   \n",
       "432     Pak.Int.Container     43.06    43.0    43.5   42.15    42.77   -0.36   \n",
       "433  Secure Logistics Gro     16.90    17.0    17.9   16.42    16.55   -0.31   \n",
       "434            Punjab Oil    149.36   153.0   153.0   143.0    143.3    -1.7   \n",
       "435         Bannu Woollen     31.99    32.0    32.0    30.0    30.35   -1.54   \n",
       "\n",
       "        volume                 scrap_time  \n",
       "0       10,960 2025-04-29 00:00:26.283945  \n",
       "1        8,945 2025-04-29 00:00:26.283945  \n",
       "2    1,877,947 2025-04-29 00:00:26.283945  \n",
       "3      764,534 2025-04-29 00:00:26.283945  \n",
       "4      309,006 2025-04-29 00:00:26.283945  \n",
       "..         ...                        ...  \n",
       "431  7,786,494 2025-04-29 00:00:26.309172  \n",
       "432     99,764 2025-04-29 00:00:26.309172  \n",
       "433  6,122,006 2025-04-29 00:00:26.309172  \n",
       "434      1,371 2025-04-29 00:00:26.309172  \n",
       "435     42,293 2025-04-29 00:00:26.309172  \n",
       "\n",
       "[436 rows x 9 columns]"
      ]
     },
     "execution_count": 89,
     "metadata": {},
     "output_type": "execute_result"
    }
   ],
   "source": [
    "df = pd.DataFrame(dictionary)\n",
    "df"
   ]
  },
  {
   "cell_type": "code",
   "execution_count": 90,
   "id": "5b9b71d9-107d-4e19-bec0-f2284ee12dca",
   "metadata": {},
   "outputs": [
    {
     "data": {
      "text/plain": [
       "titles                object\n",
       "ldcp                  object\n",
       "opens                 object\n",
       "high                  object\n",
       "low                   object\n",
       "current               object\n",
       "change                object\n",
       "volume                object\n",
       "scrap_time    datetime64[ns]\n",
       "dtype: object"
      ]
     },
     "execution_count": 90,
     "metadata": {},
     "output_type": "execute_result"
    }
   ],
   "source": [
    "df.dtypes"
   ]
  },
  {
   "cell_type": "code",
   "execution_count": 91,
   "id": "6a39cca0-e860-4983-b779-2b1f5d9011a8",
   "metadata": {},
   "outputs": [],
   "source": [
    "df = df.replace(',', '', regex=True)\n",
    "df = df.replace('', pd.NA)"
   ]
  },
  {
   "cell_type": "code",
   "execution_count": 92,
   "id": "4960c254-6fe2-4219-824a-2ea1e040ee41",
   "metadata": {},
   "outputs": [],
   "source": [
    "type_conv = {\n",
    "    'ldcp': float,\n",
    "    'opens': float,\n",
    "    'high': float,\n",
    "    'low': float,\n",
    "    'current': float,\n",
    "    'change': float,\n",
    "    'volume': float\n",
    "}\n",
    "\n",
    "for i in type_conv:\n",
    "    df[i] = pd.to_numeric(df[i], errors='coerce')"
   ]
  },
  {
   "cell_type": "code",
   "execution_count": 93,
   "id": "cb4f81e6-79de-44b7-9c18-f9654182d91b",
   "metadata": {},
   "outputs": [
    {
     "data": {
      "text/plain": [
       "titles                object\n",
       "ldcp                 float64\n",
       "opens                float64\n",
       "high                 float64\n",
       "low                  float64\n",
       "current              float64\n",
       "change               float64\n",
       "volume                 int64\n",
       "scrap_time    datetime64[ns]\n",
       "dtype: object"
      ]
     },
     "execution_count": 93,
     "metadata": {},
     "output_type": "execute_result"
    }
   ],
   "source": [
    "df.dtypes"
   ]
  },
  {
   "cell_type": "code",
   "execution_count": null,
   "id": "d57f13bb-6c77-4d3f-b302-38a38b277e7a",
   "metadata": {},
   "outputs": [],
   "source": []
  }
 ],
 "metadata": {
  "kernelspec": {
   "display_name": "Python 3 (ipykernel)",
   "language": "python",
   "name": "python3"
  },
  "language_info": {
   "codemirror_mode": {
    "name": "ipython",
    "version": 3
   },
   "file_extension": ".py",
   "mimetype": "text/x-python",
   "name": "python",
   "nbconvert_exporter": "python",
   "pygments_lexer": "ipython3",
   "version": "3.12.7"
  }
 },
 "nbformat": 4,
 "nbformat_minor": 5
}
